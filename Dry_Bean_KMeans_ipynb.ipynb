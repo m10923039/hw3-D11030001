{
 "cells": [
  {
   "cell_type": "code",
   "execution_count": null,
   "metadata": {
    "id": "QFtQyVCf45Gj"
   },
   "outputs": [],
   "source": [
    "import numpy as np\n",
    "import pandas as pd\n",
    "import matplotlib.pyplot as plt\n",
    "from sklearn.cluster import KMeans\n",
    "import time\n",
    "from sklearn.preprocessing import MinMaxScaler,StandardScaler\n",
    "\n",
    "df = pd.read_excel('/content/drive/MyDrive/Colab Notebooks/31_DM/30_homeWork3/Dry_Bean_Dataset.xlsx')\n",
    "\n",
    "x: pd.DataFrame = df.iloc()[:, :-1]\n",
    "x\n",
    "\n",
    "\n",
    "scaler = StandardScaler()\n",
    "x_nol = scaler.fit_transform(x)"
   ]
  },
  {
   "cell_type": "markdown",
   "metadata": {
    "id": "QmUay4sc5i21"
   },
   "source": [
    "# KMeans  fit\n"
   ]
  },
  {
   "cell_type": "code",
   "execution_count": null,
   "metadata": {
    "colab": {
     "base_uri": "https://localhost:8080/"
    },
    "id": "YJbShzGg5LTx",
    "outputId": "53685e83-1642-42bb-8010-acc4bac66ac6"
   },
   "outputs": [
    {
     "name": "stdout",
     "output_type": "stream",
     "text": [
      "using time is 1345.382452 ms \n"
     ]
    }
   ],
   "source": [
    "k_stat = time.time()\n",
    "k_means = KMeans()\n",
    "k_means_lable = k_means.fit_predict(x_nol)\n",
    "k_end = time.time() - k_stat\n",
    "print(f'using time is {k_end*1000:.6f} ms ')"
   ]
  },
  {
   "cell_type": "code",
   "execution_count": null,
   "metadata": {
    "colab": {
     "base_uri": "https://localhost:8080/"
    },
    "id": "l9-VVJHz9s6X",
    "outputId": "286634d2-8588-4b57-fde6-ab578b19ffe0"
   },
   "outputs": [
    {
     "data": {
      "text/plain": [
       "array([0, 0, 0, ..., 5, 5, 5], dtype=int32)"
      ]
     },
     "execution_count": 5,
     "metadata": {},
     "output_type": "execute_result"
    }
   ],
   "source": [
    "k_means_lable"
   ]
  },
  {
   "cell_type": "code",
   "execution_count": null,
   "metadata": {
    "colab": {
     "base_uri": "https://localhost:8080/",
     "height": 331
    },
    "id": "wMJ5BK9D5RAW",
    "outputId": "cc736748-79f4-48e6-cfad-f851fc3694c0"
   },
   "outputs": [
    {
     "data": {
      "text/html": [
       "<div>\n",
       "<style scoped>\n",
       "    .dataframe tbody tr th:only-of-type {\n",
       "        vertical-align: middle;\n",
       "    }\n",
       "\n",
       "    .dataframe tbody tr th {\n",
       "        vertical-align: top;\n",
       "    }\n",
       "\n",
       "    .dataframe thead th {\n",
       "        text-align: right;\n",
       "    }\n",
       "</style>\n",
       "<table border=\"1\" class=\"dataframe\">\n",
       "  <thead>\n",
       "    <tr style=\"text-align: right;\">\n",
       "      <th></th>\n",
       "      <th>DERMASON</th>\n",
       "      <th>SIRA</th>\n",
       "      <th>SEKER</th>\n",
       "      <th>HOROZ</th>\n",
       "      <th>CALI</th>\n",
       "      <th>BARBUNYA</th>\n",
       "      <th>BOMBAY</th>\n",
       "    </tr>\n",
       "    <tr>\n",
       "      <th>k_means_lable</th>\n",
       "      <th></th>\n",
       "      <th></th>\n",
       "      <th></th>\n",
       "      <th></th>\n",
       "      <th></th>\n",
       "      <th></th>\n",
       "      <th></th>\n",
       "    </tr>\n",
       "  </thead>\n",
       "  <tbody>\n",
       "    <tr>\n",
       "      <th>0</th>\n",
       "      <td>8.0</td>\n",
       "      <td>0.0</td>\n",
       "      <td>2.0</td>\n",
       "      <td>114.0</td>\n",
       "      <td>0.0</td>\n",
       "      <td>1870.0</td>\n",
       "      <td>23.0</td>\n",
       "    </tr>\n",
       "    <tr>\n",
       "      <th>1</th>\n",
       "      <td>200.0</td>\n",
       "      <td>0.0</td>\n",
       "      <td>1352.0</td>\n",
       "      <td>0.0</td>\n",
       "      <td>64.0</td>\n",
       "      <td>0.0</td>\n",
       "      <td>10.0</td>\n",
       "    </tr>\n",
       "    <tr>\n",
       "      <th>2</th>\n",
       "      <td>1001.0</td>\n",
       "      <td>1.0</td>\n",
       "      <td>22.0</td>\n",
       "      <td>1.0</td>\n",
       "      <td>0.0</td>\n",
       "      <td>11.0</td>\n",
       "      <td>6.0</td>\n",
       "    </tr>\n",
       "    <tr>\n",
       "      <th>3</th>\n",
       "      <td>0.0</td>\n",
       "      <td>0.0</td>\n",
       "      <td>0.0</td>\n",
       "      <td>2909.0</td>\n",
       "      <td>2.0</td>\n",
       "      <td>55.0</td>\n",
       "      <td>199.0</td>\n",
       "    </tr>\n",
       "    <tr>\n",
       "      <th>4</th>\n",
       "      <td>8.0</td>\n",
       "      <td>0.0</td>\n",
       "      <td>12.0</td>\n",
       "      <td>7.0</td>\n",
       "      <td>1633.0</td>\n",
       "      <td>0.0</td>\n",
       "      <td>63.0</td>\n",
       "    </tr>\n",
       "    <tr>\n",
       "      <th>5</th>\n",
       "      <td>80.0</td>\n",
       "      <td>0.0</td>\n",
       "      <td>31.0</td>\n",
       "      <td>504.0</td>\n",
       "      <td>50.0</td>\n",
       "      <td>89.0</td>\n",
       "      <td>2312.0</td>\n",
       "    </tr>\n",
       "    <tr>\n",
       "      <th>6</th>\n",
       "      <td>25.0</td>\n",
       "      <td>1.0</td>\n",
       "      <td>211.0</td>\n",
       "      <td>11.0</td>\n",
       "      <td>179.0</td>\n",
       "      <td>2.0</td>\n",
       "      <td>23.0</td>\n",
       "    </tr>\n",
       "    <tr>\n",
       "      <th>7</th>\n",
       "      <td>0.0</td>\n",
       "      <td>520.0</td>\n",
       "      <td>0.0</td>\n",
       "      <td>0.0</td>\n",
       "      <td>0.0</td>\n",
       "      <td>0.0</td>\n",
       "      <td>0.0</td>\n",
       "    </tr>\n",
       "  </tbody>\n",
       "</table>\n",
       "</div>"
      ],
      "text/plain": [
       "               DERMASON   SIRA   SEKER   HOROZ    CALI  BARBUNYA  BOMBAY\n",
       "k_means_lable                                                           \n",
       "0                   8.0    0.0     2.0   114.0     0.0    1870.0    23.0\n",
       "1                 200.0    0.0  1352.0     0.0    64.0       0.0    10.0\n",
       "2                1001.0    1.0    22.0     1.0     0.0      11.0     6.0\n",
       "3                   0.0    0.0     0.0  2909.0     2.0      55.0   199.0\n",
       "4                   8.0    0.0    12.0     7.0  1633.0       0.0    63.0\n",
       "5                  80.0    0.0    31.0   504.0    50.0      89.0  2312.0\n",
       "6                  25.0    1.0   211.0    11.0   179.0       2.0    23.0\n",
       "7                   0.0  520.0     0.0     0.0     0.0       0.0     0.0"
      ]
     },
     "execution_count": 6,
     "metadata": {},
     "output_type": "execute_result"
    }
   ],
   "source": [
    "df['k_means_lable'] = k_means_lable\n",
    "\n",
    "df_k_means = df.pivot_table(index=['k_means_lable'],\n",
    "                     columns=['Class'],\n",
    "                     values=['Area'],\n",
    "                     aggfunc=\"count\")\n",
    "\n",
    "df_k_means.columns = df['Class'].value_counts().index\n",
    "df_k_means = df_k_means.fillna(value=0)\n",
    "df_k_means"
   ]
  },
  {
   "cell_type": "markdown",
   "metadata": {
    "id": "6q2rUcZP5wqS"
   },
   "source": [
    "# purity"
   ]
  },
  {
   "cell_type": "code",
   "execution_count": null,
   "metadata": {
    "colab": {
     "base_uri": "https://localhost:8080/",
     "height": 351
    },
    "id": "LcjYNc8o5Wxx",
    "outputId": "afeb6869-c70a-45ac-f322-4c3b40a68735"
   },
   "outputs": [
    {
     "name": "stdout",
     "output_type": "stream",
     "text": [
      "total purity for DBSCAN is 0.867534\n"
     ]
    },
    {
     "data": {
      "text/html": [
       "<div>\n",
       "<style scoped>\n",
       "    .dataframe tbody tr th:only-of-type {\n",
       "        vertical-align: middle;\n",
       "    }\n",
       "\n",
       "    .dataframe tbody tr th {\n",
       "        vertical-align: top;\n",
       "    }\n",
       "\n",
       "    .dataframe thead th {\n",
       "        text-align: right;\n",
       "    }\n",
       "</style>\n",
       "<table border=\"1\" class=\"dataframe\">\n",
       "  <thead>\n",
       "    <tr style=\"text-align: right;\">\n",
       "      <th></th>\n",
       "      <th>DERMASON</th>\n",
       "      <th>SIRA</th>\n",
       "      <th>SEKER</th>\n",
       "      <th>HOROZ</th>\n",
       "      <th>CALI</th>\n",
       "      <th>BARBUNYA</th>\n",
       "      <th>BOMBAY</th>\n",
       "      <th>purity</th>\n",
       "      <th>purity_weight</th>\n",
       "    </tr>\n",
       "    <tr>\n",
       "      <th>k_means_lable</th>\n",
       "      <th></th>\n",
       "      <th></th>\n",
       "      <th></th>\n",
       "      <th></th>\n",
       "      <th></th>\n",
       "      <th></th>\n",
       "      <th></th>\n",
       "      <th></th>\n",
       "      <th></th>\n",
       "    </tr>\n",
       "  </thead>\n",
       "  <tbody>\n",
       "    <tr>\n",
       "      <th>0</th>\n",
       "      <td>8.0</td>\n",
       "      <td>0.0</td>\n",
       "      <td>2.0</td>\n",
       "      <td>114.0</td>\n",
       "      <td>0.0</td>\n",
       "      <td>1870.0</td>\n",
       "      <td>23.0</td>\n",
       "      <td>0.927119</td>\n",
       "      <td>0.137389</td>\n",
       "    </tr>\n",
       "    <tr>\n",
       "      <th>1</th>\n",
       "      <td>200.0</td>\n",
       "      <td>0.0</td>\n",
       "      <td>1352.0</td>\n",
       "      <td>0.0</td>\n",
       "      <td>64.0</td>\n",
       "      <td>0.0</td>\n",
       "      <td>10.0</td>\n",
       "      <td>0.831488</td>\n",
       "      <td>0.099331</td>\n",
       "    </tr>\n",
       "    <tr>\n",
       "      <th>2</th>\n",
       "      <td>1001.0</td>\n",
       "      <td>1.0</td>\n",
       "      <td>22.0</td>\n",
       "      <td>1.0</td>\n",
       "      <td>0.0</td>\n",
       "      <td>11.0</td>\n",
       "      <td>6.0</td>\n",
       "      <td>0.960653</td>\n",
       "      <td>0.073543</td>\n",
       "    </tr>\n",
       "    <tr>\n",
       "      <th>3</th>\n",
       "      <td>0.0</td>\n",
       "      <td>0.0</td>\n",
       "      <td>0.0</td>\n",
       "      <td>2909.0</td>\n",
       "      <td>2.0</td>\n",
       "      <td>55.0</td>\n",
       "      <td>199.0</td>\n",
       "      <td>0.919115</td>\n",
       "      <td>0.213724</td>\n",
       "    </tr>\n",
       "    <tr>\n",
       "      <th>4</th>\n",
       "      <td>8.0</td>\n",
       "      <td>0.0</td>\n",
       "      <td>12.0</td>\n",
       "      <td>7.0</td>\n",
       "      <td>1633.0</td>\n",
       "      <td>0.0</td>\n",
       "      <td>63.0</td>\n",
       "      <td>0.947766</td>\n",
       "      <td>0.119976</td>\n",
       "    </tr>\n",
       "    <tr>\n",
       "      <th>5</th>\n",
       "      <td>80.0</td>\n",
       "      <td>0.0</td>\n",
       "      <td>31.0</td>\n",
       "      <td>504.0</td>\n",
       "      <td>50.0</td>\n",
       "      <td>89.0</td>\n",
       "      <td>2312.0</td>\n",
       "      <td>0.754077</td>\n",
       "      <td>0.169863</td>\n",
       "    </tr>\n",
       "    <tr>\n",
       "      <th>6</th>\n",
       "      <td>25.0</td>\n",
       "      <td>1.0</td>\n",
       "      <td>211.0</td>\n",
       "      <td>11.0</td>\n",
       "      <td>179.0</td>\n",
       "      <td>2.0</td>\n",
       "      <td>23.0</td>\n",
       "      <td>0.466814</td>\n",
       "      <td>0.015502</td>\n",
       "    </tr>\n",
       "    <tr>\n",
       "      <th>7</th>\n",
       "      <td>0.0</td>\n",
       "      <td>520.0</td>\n",
       "      <td>0.0</td>\n",
       "      <td>0.0</td>\n",
       "      <td>0.0</td>\n",
       "      <td>0.0</td>\n",
       "      <td>0.0</td>\n",
       "      <td>1.000000</td>\n",
       "      <td>0.038204</td>\n",
       "    </tr>\n",
       "  </tbody>\n",
       "</table>\n",
       "</div>"
      ],
      "text/plain": [
       "               DERMASON   SIRA   SEKER  ...  BOMBAY    purity  purity_weight\n",
       "k_means_lable                           ...                                 \n",
       "0                   8.0    0.0     2.0  ...    23.0  0.927119       0.137389\n",
       "1                 200.0    0.0  1352.0  ...    10.0  0.831488       0.099331\n",
       "2                1001.0    1.0    22.0  ...     6.0  0.960653       0.073543\n",
       "3                   0.0    0.0     0.0  ...   199.0  0.919115       0.213724\n",
       "4                   8.0    0.0    12.0  ...    63.0  0.947766       0.119976\n",
       "5                  80.0    0.0    31.0  ...  2312.0  0.754077       0.169863\n",
       "6                  25.0    1.0   211.0  ...    23.0  0.466814       0.015502\n",
       "7                   0.0  520.0     0.0  ...     0.0  1.000000       0.038204\n",
       "\n",
       "[8 rows x 9 columns]"
      ]
     },
     "execution_count": 7,
     "metadata": {},
     "output_type": "execute_result"
    }
   ],
   "source": [
    "def get_purity(df: pd.DataFrame):\n",
    "    temp = df / df.sum()\n",
    "    purity = temp.max()\n",
    "    return purity\n",
    "\n",
    "\n",
    "df_k_means['purity'] = df_k_means.apply(get_purity, axis=1)\n",
    "df_k_means['purity_weight'] = (df_k_means['purity'] * (df_k_means.iloc()[:, :-1].sum(axis=1) / df_k_means.iloc()[:, :-1].sum(axis=1).sum()))\n",
    "k_means_total_purity = df_k_means['purity_weight'].sum()\n",
    "print(f'total purity for DBSCAN is {k_means_total_purity:.6f}')\n",
    "df_k_means"
   ]
  },
  {
   "cell_type": "code",
   "execution_count": null,
   "metadata": {
    "id": "Qk3CVgMhp5Sk"
   },
   "outputs": [],
   "source": [
    "total_purity_list=[]\n",
    "\n",
    "for i in range(3,30,1):\n",
    "  df1=df.iloc()[:,:-1].copy()\n",
    "  temp = KMeans(n_clusters=i)\n",
    "  temp_lable = temp.fit_predict(x_nol)\n",
    "  df1['KMeans_lable'] = temp_lable\n",
    "\n",
    "  df_temp = df1.pivot_table(index=['KMeans_lable'],\n",
    "                      columns=['Class'],\n",
    "                      values=['Area'],\n",
    "                      aggfunc=\"count\")\n",
    "\n",
    "  df_temp.columns = df1['Class'].value_counts().index\n",
    "  df_temp = df_temp.fillna(value=0)\n",
    "\n",
    "  df_temp['purity'] = df_temp.apply(get_purity, axis=1)\n",
    "  df_temp['purity_weight'] = (df_temp['purity'] * (df_temp.iloc()[:, :-1].sum(axis=1) / df_temp.iloc()[:, :-1].sum(axis=1).sum()))\n",
    "  KMeans_total_purity = df_temp['purity_weight'].sum()\n",
    "  total_purity_list.append(KMeans_total_purity)\n"
   ]
  },
  {
   "cell_type": "code",
   "execution_count": null,
   "metadata": {
    "colab": {
     "base_uri": "https://localhost:8080/",
     "height": 895
    },
    "id": "zyxeb3mP5cCh",
    "outputId": "22396366-279b-4ed5-cd7a-d3419c1b118c"
   },
   "outputs": [
    {
     "data": {
      "text/html": [
       "<div>\n",
       "<style scoped>\n",
       "    .dataframe tbody tr th:only-of-type {\n",
       "        vertical-align: middle;\n",
       "    }\n",
       "\n",
       "    .dataframe tbody tr th {\n",
       "        vertical-align: top;\n",
       "    }\n",
       "\n",
       "    .dataframe thead th {\n",
       "        text-align: right;\n",
       "    }\n",
       "</style>\n",
       "<table border=\"1\" class=\"dataframe\">\n",
       "  <thead>\n",
       "    <tr style=\"text-align: right;\">\n",
       "      <th></th>\n",
       "      <th>0</th>\n",
       "    </tr>\n",
       "  </thead>\n",
       "  <tbody>\n",
       "    <tr>\n",
       "      <th>3</th>\n",
       "      <td>0.436265</td>\n",
       "    </tr>\n",
       "    <tr>\n",
       "      <th>4</th>\n",
       "      <td>0.555066</td>\n",
       "    </tr>\n",
       "    <tr>\n",
       "      <th>5</th>\n",
       "      <td>0.667107</td>\n",
       "    </tr>\n",
       "    <tr>\n",
       "      <th>6</th>\n",
       "      <td>0.655940</td>\n",
       "    </tr>\n",
       "    <tr>\n",
       "      <th>7</th>\n",
       "      <td>0.798398</td>\n",
       "    </tr>\n",
       "    <tr>\n",
       "      <th>8</th>\n",
       "      <td>0.867460</td>\n",
       "    </tr>\n",
       "    <tr>\n",
       "      <th>9</th>\n",
       "      <td>0.870032</td>\n",
       "    </tr>\n",
       "    <tr>\n",
       "      <th>10</th>\n",
       "      <td>0.856072</td>\n",
       "    </tr>\n",
       "    <tr>\n",
       "      <th>11</th>\n",
       "      <td>0.841966</td>\n",
       "    </tr>\n",
       "    <tr>\n",
       "      <th>12</th>\n",
       "      <td>0.849019</td>\n",
       "    </tr>\n",
       "    <tr>\n",
       "      <th>13</th>\n",
       "      <td>0.856366</td>\n",
       "    </tr>\n",
       "    <tr>\n",
       "      <th>14</th>\n",
       "      <td>0.867387</td>\n",
       "    </tr>\n",
       "    <tr>\n",
       "      <th>15</th>\n",
       "      <td>0.871428</td>\n",
       "    </tr>\n",
       "    <tr>\n",
       "      <th>16</th>\n",
       "      <td>0.864595</td>\n",
       "    </tr>\n",
       "    <tr>\n",
       "      <th>17</th>\n",
       "      <td>0.865256</td>\n",
       "    </tr>\n",
       "    <tr>\n",
       "      <th>18</th>\n",
       "      <td>0.862023</td>\n",
       "    </tr>\n",
       "    <tr>\n",
       "      <th>19</th>\n",
       "      <td>0.858276</td>\n",
       "    </tr>\n",
       "    <tr>\n",
       "      <th>20</th>\n",
       "      <td>0.865844</td>\n",
       "    </tr>\n",
       "    <tr>\n",
       "      <th>21</th>\n",
       "      <td>0.860701</td>\n",
       "    </tr>\n",
       "    <tr>\n",
       "      <th>22</th>\n",
       "      <td>0.859232</td>\n",
       "    </tr>\n",
       "    <tr>\n",
       "      <th>23</th>\n",
       "      <td>0.864815</td>\n",
       "    </tr>\n",
       "    <tr>\n",
       "      <th>24</th>\n",
       "      <td>0.859011</td>\n",
       "    </tr>\n",
       "    <tr>\n",
       "      <th>25</th>\n",
       "      <td>0.858497</td>\n",
       "    </tr>\n",
       "    <tr>\n",
       "      <th>26</th>\n",
       "      <td>0.877232</td>\n",
       "    </tr>\n",
       "    <tr>\n",
       "      <th>27</th>\n",
       "      <td>0.885240</td>\n",
       "    </tr>\n",
       "    <tr>\n",
       "      <th>28</th>\n",
       "      <td>0.878775</td>\n",
       "    </tr>\n",
       "    <tr>\n",
       "      <th>29</th>\n",
       "      <td>0.876644</td>\n",
       "    </tr>\n",
       "  </tbody>\n",
       "</table>\n",
       "</div>"
      ],
      "text/plain": [
       "           0\n",
       "3   0.436265\n",
       "4   0.555066\n",
       "5   0.667107\n",
       "6   0.655940\n",
       "7   0.798398\n",
       "8   0.867460\n",
       "9   0.870032\n",
       "10  0.856072\n",
       "11  0.841966\n",
       "12  0.849019\n",
       "13  0.856366\n",
       "14  0.867387\n",
       "15  0.871428\n",
       "16  0.864595\n",
       "17  0.865256\n",
       "18  0.862023\n",
       "19  0.858276\n",
       "20  0.865844\n",
       "21  0.860701\n",
       "22  0.859232\n",
       "23  0.864815\n",
       "24  0.859011\n",
       "25  0.858497\n",
       "26  0.877232\n",
       "27  0.885240\n",
       "28  0.878775\n",
       "29  0.876644"
      ]
     },
     "execution_count": 9,
     "metadata": {},
     "output_type": "execute_result"
    }
   ],
   "source": [
    "df_temp=pd.DataFrame(total_purity_list,index=range(3,30,1))\n",
    "df_temp"
   ]
  },
  {
   "cell_type": "code",
   "execution_count": null,
   "metadata": {
    "colab": {
     "base_uri": "https://localhost:8080/",
     "height": 561
    },
    "id": "vF1tFQ_iJyLt",
    "outputId": "b910c03f-56e9-471b-b621-cdcab2ef418a"
   },
   "outputs": [
    {
     "data": {
      "text/plain": [
       "<matplotlib.axes._subplots.AxesSubplot at 0x7f04c1b7e6d0>"
      ]
     },
     "execution_count": 14,
     "metadata": {},
     "output_type": "execute_result"
    },
    {
     "data": {
      "image/png": "[encoded data removed]",
      "text/plain": [
       "<Figure size 1152x648 with 1 Axes>"
      ]
     },
     "metadata": {
      "needs_background": "light"
     },
     "output_type": "display_data"
    }
   ],
   "source": [
    "df_temp.plot(figsize=(16,9),xticks=range(1,30,1),fontsize=16)"
   ]
  }
 ],
 "metadata": {
  "colab": {
   "collapsed_sections": [],
   "name": "「Dry_Bean_KMeans.ipynb」的副本",
   "provenance": []
  },
  "kernelspec": {
   "display_name": "Python 3",
   "language": "python",
   "name": "python3"
  },
  "language_info": {
   "codemirror_mode": {
    "name": "ipython",
    "version": 3
   },
   "file_extension": ".py",
   "mimetype": "text/x-python",
   "name": "python",
   "nbconvert_exporter": "python",
   "pygments_lexer": "ipython3",
   "version": "3.7.7"
  }
 },
 "nbformat": 4,
 "nbformat_minor": 1
}
