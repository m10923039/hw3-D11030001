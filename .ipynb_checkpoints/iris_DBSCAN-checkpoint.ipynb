{
 "cells": [
  {
   "cell_type": "code",
   "execution_count": 1,
   "metadata": {
    "executionInfo": {
     "elapsed": 665,
     "status": "ok",
     "timestamp": 1638649875568,
     "user": {
      "displayName": "何松諭",
      "photoUrl": "https://lh3.googleusercontent.com/a/default-user=s64",
      "userId": "12106821870852340669"
     },
     "user_tz": -480
    },
    "id": "QFtQyVCf45Gj"
   },
   "outputs": [],
   "source": [
    "import numpy as np\n",
    "import pandas as pd\n",
    "import matplotlib.pyplot as plt\n",
    "from sklearn.cluster import DBSCAN\n",
    "from sklearn.preprocessing import MinMaxScaler,StandardScaler\n",
    "import time\n",
    "\n",
    "def load_data(file_path: str):\n",
    "    df = pd.read_csv(file_path, header=None)\n",
    "    df.columns = [\n",
    "        'sepal_length',\n",
    "        'sepal_width',\n",
    "        'petal_length',\n",
    "        'petal_width',\n",
    "        'class'\n",
    "    ]\n",
    "    return df\n",
    "\n",
    "\n",
    "df = load_data('/content/drive/MyDrive/Colab Notebooks/31_DM/30_homeWork3/iris.data')\n",
    "\n",
    "x: pd.DataFrame = df.iloc()[:, :-1]\n",
    "scaler = StandardScaler()\n",
    "x_nol = scaler.fit_transform(x)\n",
    "x_nol=pd.DataFrame(x_nol,columns=x.columns)"
   ]
  },
  {
   "cell_type": "code",
   "execution_count": 2,
   "metadata": {
    "colab": {
     "base_uri": "https://localhost:8080/",
     "height": 423
    },
    "executionInfo": {
     "elapsed": 13,
     "status": "ok",
     "timestamp": 1638649875570,
     "user": {
      "displayName": "何松諭",
      "photoUrl": "https://lh3.googleusercontent.com/a/default-user=s64",
      "userId": "12106821870852340669"
     },
     "user_tz": -480
    },
    "id": "o9q88e8l7Hcw",
    "outputId": "a73ccdbc-25e3-400b-bb8e-ae1708807df7"
   },
   "outputs": [
    {
     "data": {
      "text/html": [
       "<div>\n",
       "<style scoped>\n",
       "    .dataframe tbody tr th:only-of-type {\n",
       "        vertical-align: middle;\n",
       "    }\n",
       "\n",
       "    .dataframe tbody tr th {\n",
       "        vertical-align: top;\n",
       "    }\n",
       "\n",
       "    .dataframe thead th {\n",
       "        text-align: right;\n",
       "    }\n",
       "</style>\n",
       "<table border=\"1\" class=\"dataframe\">\n",
       "  <thead>\n",
       "    <tr style=\"text-align: right;\">\n",
       "      <th></th>\n",
       "      <th>sepal_length</th>\n",
       "      <th>sepal_width</th>\n",
       "      <th>petal_length</th>\n",
       "      <th>petal_width</th>\n",
       "    </tr>\n",
       "  </thead>\n",
       "  <tbody>\n",
       "    <tr>\n",
       "      <th>0</th>\n",
       "      <td>5.1</td>\n",
       "      <td>3.5</td>\n",
       "      <td>1.4</td>\n",
       "      <td>0.2</td>\n",
       "    </tr>\n",
       "    <tr>\n",
       "      <th>1</th>\n",
       "      <td>4.9</td>\n",
       "      <td>3.0</td>\n",
       "      <td>1.4</td>\n",
       "      <td>0.2</td>\n",
       "    </tr>\n",
       "    <tr>\n",
       "      <th>2</th>\n",
       "      <td>4.7</td>\n",
       "      <td>3.2</td>\n",
       "      <td>1.3</td>\n",
       "      <td>0.2</td>\n",
       "    </tr>\n",
       "    <tr>\n",
       "      <th>3</th>\n",
       "      <td>4.6</td>\n",
       "      <td>3.1</td>\n",
       "      <td>1.5</td>\n",
       "      <td>0.2</td>\n",
       "    </tr>\n",
       "    <tr>\n",
       "      <th>4</th>\n",
       "      <td>5.0</td>\n",
       "      <td>3.6</td>\n",
       "      <td>1.4</td>\n",
       "      <td>0.2</td>\n",
       "    </tr>\n",
       "    <tr>\n",
       "      <th>...</th>\n",
       "      <td>...</td>\n",
       "      <td>...</td>\n",
       "      <td>...</td>\n",
       "      <td>...</td>\n",
       "    </tr>\n",
       "    <tr>\n",
       "      <th>145</th>\n",
       "      <td>6.7</td>\n",
       "      <td>3.0</td>\n",
       "      <td>5.2</td>\n",
       "      <td>2.3</td>\n",
       "    </tr>\n",
       "    <tr>\n",
       "      <th>146</th>\n",
       "      <td>6.3</td>\n",
       "      <td>2.5</td>\n",
       "      <td>5.0</td>\n",
       "      <td>1.9</td>\n",
       "    </tr>\n",
       "    <tr>\n",
       "      <th>147</th>\n",
       "      <td>6.5</td>\n",
       "      <td>3.0</td>\n",
       "      <td>5.2</td>\n",
       "      <td>2.0</td>\n",
       "    </tr>\n",
       "    <tr>\n",
       "      <th>148</th>\n",
       "      <td>6.2</td>\n",
       "      <td>3.4</td>\n",
       "      <td>5.4</td>\n",
       "      <td>2.3</td>\n",
       "    </tr>\n",
       "    <tr>\n",
       "      <th>149</th>\n",
       "      <td>5.9</td>\n",
       "      <td>3.0</td>\n",
       "      <td>5.1</td>\n",
       "      <td>1.8</td>\n",
       "    </tr>\n",
       "  </tbody>\n",
       "</table>\n",
       "<p>150 rows × 4 columns</p>\n",
       "</div>"
      ],
      "text/plain": [
       "     sepal_length  sepal_width  petal_length  petal_width\n",
       "0             5.1          3.5           1.4          0.2\n",
       "1             4.9          3.0           1.4          0.2\n",
       "2             4.7          3.2           1.3          0.2\n",
       "3             4.6          3.1           1.5          0.2\n",
       "4             5.0          3.6           1.4          0.2\n",
       "..            ...          ...           ...          ...\n",
       "145           6.7          3.0           5.2          2.3\n",
       "146           6.3          2.5           5.0          1.9\n",
       "147           6.5          3.0           5.2          2.0\n",
       "148           6.2          3.4           5.4          2.3\n",
       "149           5.9          3.0           5.1          1.8\n",
       "\n",
       "[150 rows x 4 columns]"
      ]
     },
     "execution_count": 2,
     "metadata": {},
     "output_type": "execute_result"
    }
   ],
   "source": [
    "x"
   ]
  },
  {
   "cell_type": "code",
   "execution_count": 3,
   "metadata": {
    "colab": {
     "base_uri": "https://localhost:8080/",
     "height": 300
    },
    "executionInfo": {
     "elapsed": 596,
     "status": "ok",
     "timestamp": 1638649876155,
     "user": {
      "displayName": "何松諭",
      "photoUrl": "https://lh3.googleusercontent.com/a/default-user=s64",
      "userId": "12106821870852340669"
     },
     "user_tz": -480
    },
    "id": "tX2JuN2n2oG5",
    "outputId": "ec10887c-784d-4a2b-acf5-a30b20fde043"
   },
   "outputs": [
    {
     "data": {
      "text/html": [
       "<div>\n",
       "<style scoped>\n",
       "    .dataframe tbody tr th:only-of-type {\n",
       "        vertical-align: middle;\n",
       "    }\n",
       "\n",
       "    .dataframe tbody tr th {\n",
       "        vertical-align: top;\n",
       "    }\n",
       "\n",
       "    .dataframe thead th {\n",
       "        text-align: right;\n",
       "    }\n",
       "</style>\n",
       "<table border=\"1\" class=\"dataframe\">\n",
       "  <thead>\n",
       "    <tr style=\"text-align: right;\">\n",
       "      <th></th>\n",
       "      <th>sepal_length</th>\n",
       "      <th>sepal_width</th>\n",
       "      <th>petal_length</th>\n",
       "      <th>petal_width</th>\n",
       "    </tr>\n",
       "  </thead>\n",
       "  <tbody>\n",
       "    <tr>\n",
       "      <th>count</th>\n",
       "      <td>150.000000</td>\n",
       "      <td>150.000000</td>\n",
       "      <td>150.000000</td>\n",
       "      <td>150.000000</td>\n",
       "    </tr>\n",
       "    <tr>\n",
       "      <th>mean</th>\n",
       "      <td>5.843333</td>\n",
       "      <td>3.054000</td>\n",
       "      <td>3.758667</td>\n",
       "      <td>1.198667</td>\n",
       "    </tr>\n",
       "    <tr>\n",
       "      <th>std</th>\n",
       "      <td>0.828066</td>\n",
       "      <td>0.433594</td>\n",
       "      <td>1.764420</td>\n",
       "      <td>0.763161</td>\n",
       "    </tr>\n",
       "    <tr>\n",
       "      <th>min</th>\n",
       "      <td>4.300000</td>\n",
       "      <td>2.000000</td>\n",
       "      <td>1.000000</td>\n",
       "      <td>0.100000</td>\n",
       "    </tr>\n",
       "    <tr>\n",
       "      <th>25%</th>\n",
       "      <td>5.100000</td>\n",
       "      <td>2.800000</td>\n",
       "      <td>1.600000</td>\n",
       "      <td>0.300000</td>\n",
       "    </tr>\n",
       "    <tr>\n",
       "      <th>50%</th>\n",
       "      <td>5.800000</td>\n",
       "      <td>3.000000</td>\n",
       "      <td>4.350000</td>\n",
       "      <td>1.300000</td>\n",
       "    </tr>\n",
       "    <tr>\n",
       "      <th>75%</th>\n",
       "      <td>6.400000</td>\n",
       "      <td>3.300000</td>\n",
       "      <td>5.100000</td>\n",
       "      <td>1.800000</td>\n",
       "    </tr>\n",
       "    <tr>\n",
       "      <th>max</th>\n",
       "      <td>7.900000</td>\n",
       "      <td>4.400000</td>\n",
       "      <td>6.900000</td>\n",
       "      <td>2.500000</td>\n",
       "    </tr>\n",
       "  </tbody>\n",
       "</table>\n",
       "</div>"
      ],
      "text/plain": [
       "       sepal_length  sepal_width  petal_length  petal_width\n",
       "count    150.000000   150.000000    150.000000   150.000000\n",
       "mean       5.843333     3.054000      3.758667     1.198667\n",
       "std        0.828066     0.433594      1.764420     0.763161\n",
       "min        4.300000     2.000000      1.000000     0.100000\n",
       "25%        5.100000     2.800000      1.600000     0.300000\n",
       "50%        5.800000     3.000000      4.350000     1.300000\n",
       "75%        6.400000     3.300000      5.100000     1.800000\n",
       "max        7.900000     4.400000      6.900000     2.500000"
      ]
     },
     "execution_count": 3,
     "metadata": {},
     "output_type": "execute_result"
    }
   ],
   "source": [
    "x.describe()"
   ]
  },
  {
   "cell_type": "code",
   "execution_count": 4,
   "metadata": {
    "colab": {
     "base_uri": "https://localhost:8080/",
     "height": 423
    },
    "executionInfo": {
     "elapsed": 34,
     "status": "ok",
     "timestamp": 1638649876156,
     "user": {
      "displayName": "何松諭",
      "photoUrl": "https://lh3.googleusercontent.com/a/default-user=s64",
      "userId": "12106821870852340669"
     },
     "user_tz": -480
    },
    "id": "n0oiGXp16850",
    "outputId": "59a6d03b-a1e8-4858-c363-e8063f19d53a"
   },
   "outputs": [
    {
     "data": {
      "text/html": [
       "<div>\n",
       "<style scoped>\n",
       "    .dataframe tbody tr th:only-of-type {\n",
       "        vertical-align: middle;\n",
       "    }\n",
       "\n",
       "    .dataframe tbody tr th {\n",
       "        vertical-align: top;\n",
       "    }\n",
       "\n",
       "    .dataframe thead th {\n",
       "        text-align: right;\n",
       "    }\n",
       "</style>\n",
       "<table border=\"1\" class=\"dataframe\">\n",
       "  <thead>\n",
       "    <tr style=\"text-align: right;\">\n",
       "      <th></th>\n",
       "      <th>sepal_length</th>\n",
       "      <th>sepal_width</th>\n",
       "      <th>petal_length</th>\n",
       "      <th>petal_width</th>\n",
       "    </tr>\n",
       "  </thead>\n",
       "  <tbody>\n",
       "    <tr>\n",
       "      <th>0</th>\n",
       "      <td>-0.900681</td>\n",
       "      <td>1.032057</td>\n",
       "      <td>-1.341272</td>\n",
       "      <td>-1.312977</td>\n",
       "    </tr>\n",
       "    <tr>\n",
       "      <th>1</th>\n",
       "      <td>-1.143017</td>\n",
       "      <td>-0.124958</td>\n",
       "      <td>-1.341272</td>\n",
       "      <td>-1.312977</td>\n",
       "    </tr>\n",
       "    <tr>\n",
       "      <th>2</th>\n",
       "      <td>-1.385353</td>\n",
       "      <td>0.337848</td>\n",
       "      <td>-1.398138</td>\n",
       "      <td>-1.312977</td>\n",
       "    </tr>\n",
       "    <tr>\n",
       "      <th>3</th>\n",
       "      <td>-1.506521</td>\n",
       "      <td>0.106445</td>\n",
       "      <td>-1.284407</td>\n",
       "      <td>-1.312977</td>\n",
       "    </tr>\n",
       "    <tr>\n",
       "      <th>4</th>\n",
       "      <td>-1.021849</td>\n",
       "      <td>1.263460</td>\n",
       "      <td>-1.341272</td>\n",
       "      <td>-1.312977</td>\n",
       "    </tr>\n",
       "    <tr>\n",
       "      <th>...</th>\n",
       "      <td>...</td>\n",
       "      <td>...</td>\n",
       "      <td>...</td>\n",
       "      <td>...</td>\n",
       "    </tr>\n",
       "    <tr>\n",
       "      <th>145</th>\n",
       "      <td>1.038005</td>\n",
       "      <td>-0.124958</td>\n",
       "      <td>0.819624</td>\n",
       "      <td>1.447956</td>\n",
       "    </tr>\n",
       "    <tr>\n",
       "      <th>146</th>\n",
       "      <td>0.553333</td>\n",
       "      <td>-1.281972</td>\n",
       "      <td>0.705893</td>\n",
       "      <td>0.922064</td>\n",
       "    </tr>\n",
       "    <tr>\n",
       "      <th>147</th>\n",
       "      <td>0.795669</td>\n",
       "      <td>-0.124958</td>\n",
       "      <td>0.819624</td>\n",
       "      <td>1.053537</td>\n",
       "    </tr>\n",
       "    <tr>\n",
       "      <th>148</th>\n",
       "      <td>0.432165</td>\n",
       "      <td>0.800654</td>\n",
       "      <td>0.933356</td>\n",
       "      <td>1.447956</td>\n",
       "    </tr>\n",
       "    <tr>\n",
       "      <th>149</th>\n",
       "      <td>0.068662</td>\n",
       "      <td>-0.124958</td>\n",
       "      <td>0.762759</td>\n",
       "      <td>0.790591</td>\n",
       "    </tr>\n",
       "  </tbody>\n",
       "</table>\n",
       "<p>150 rows × 4 columns</p>\n",
       "</div>"
      ],
      "text/plain": [
       "     sepal_length  sepal_width  petal_length  petal_width\n",
       "0       -0.900681     1.032057     -1.341272    -1.312977\n",
       "1       -1.143017    -0.124958     -1.341272    -1.312977\n",
       "2       -1.385353     0.337848     -1.398138    -1.312977\n",
       "3       -1.506521     0.106445     -1.284407    -1.312977\n",
       "4       -1.021849     1.263460     -1.341272    -1.312977\n",
       "..            ...          ...           ...          ...\n",
       "145      1.038005    -0.124958      0.819624     1.447956\n",
       "146      0.553333    -1.281972      0.705893     0.922064\n",
       "147      0.795669    -0.124958      0.819624     1.053537\n",
       "148      0.432165     0.800654      0.933356     1.447956\n",
       "149      0.068662    -0.124958      0.762759     0.790591\n",
       "\n",
       "[150 rows x 4 columns]"
      ]
     },
     "execution_count": 4,
     "metadata": {},
     "output_type": "execute_result"
    }
   ],
   "source": [
    "x_nol"
   ]
  },
  {
   "cell_type": "code",
   "execution_count": 5,
   "metadata": {
    "colab": {
     "base_uri": "https://localhost:8080/",
     "height": 300
    },
    "executionInfo": {
     "elapsed": 32,
     "status": "ok",
     "timestamp": 1638649876156,
     "user": {
      "displayName": "何松諭",
      "photoUrl": "https://lh3.googleusercontent.com/a/default-user=s64",
      "userId": "12106821870852340669"
     },
     "user_tz": -480
    },
    "id": "vQ6mo0lp3hlz",
    "outputId": "2999814d-71ee-4007-996a-4aadbf2b8248"
   },
   "outputs": [
    {
     "data": {
      "text/html": [
       "<div>\n",
       "<style scoped>\n",
       "    .dataframe tbody tr th:only-of-type {\n",
       "        vertical-align: middle;\n",
       "    }\n",
       "\n",
       "    .dataframe tbody tr th {\n",
       "        vertical-align: top;\n",
       "    }\n",
       "\n",
       "    .dataframe thead th {\n",
       "        text-align: right;\n",
       "    }\n",
       "</style>\n",
       "<table border=\"1\" class=\"dataframe\">\n",
       "  <thead>\n",
       "    <tr style=\"text-align: right;\">\n",
       "      <th></th>\n",
       "      <th>sepal_length</th>\n",
       "      <th>sepal_width</th>\n",
       "      <th>petal_length</th>\n",
       "      <th>petal_width</th>\n",
       "    </tr>\n",
       "  </thead>\n",
       "  <tbody>\n",
       "    <tr>\n",
       "      <th>count</th>\n",
       "      <td>150.00000</td>\n",
       "      <td>150.00000</td>\n",
       "      <td>150.00000</td>\n",
       "      <td>150.00000</td>\n",
       "    </tr>\n",
       "    <tr>\n",
       "      <th>mean</th>\n",
       "      <td>-0.00000</td>\n",
       "      <td>-0.00000</td>\n",
       "      <td>0.00000</td>\n",
       "      <td>0.00000</td>\n",
       "    </tr>\n",
       "    <tr>\n",
       "      <th>std</th>\n",
       "      <td>1.00335</td>\n",
       "      <td>1.00335</td>\n",
       "      <td>1.00335</td>\n",
       "      <td>1.00335</td>\n",
       "    </tr>\n",
       "    <tr>\n",
       "      <th>min</th>\n",
       "      <td>-1.87002</td>\n",
       "      <td>-2.43899</td>\n",
       "      <td>-1.56874</td>\n",
       "      <td>-1.44445</td>\n",
       "    </tr>\n",
       "    <tr>\n",
       "      <th>25%</th>\n",
       "      <td>-0.90068</td>\n",
       "      <td>-0.58776</td>\n",
       "      <td>-1.22754</td>\n",
       "      <td>-1.18150</td>\n",
       "    </tr>\n",
       "    <tr>\n",
       "      <th>50%</th>\n",
       "      <td>-0.05251</td>\n",
       "      <td>-0.12496</td>\n",
       "      <td>0.33627</td>\n",
       "      <td>0.13323</td>\n",
       "    </tr>\n",
       "    <tr>\n",
       "      <th>75%</th>\n",
       "      <td>0.67450</td>\n",
       "      <td>0.56925</td>\n",
       "      <td>0.76276</td>\n",
       "      <td>0.79059</td>\n",
       "    </tr>\n",
       "    <tr>\n",
       "      <th>max</th>\n",
       "      <td>2.49202</td>\n",
       "      <td>3.11468</td>\n",
       "      <td>1.78634</td>\n",
       "      <td>1.71090</td>\n",
       "    </tr>\n",
       "  </tbody>\n",
       "</table>\n",
       "</div>"
      ],
      "text/plain": [
       "       sepal_length  sepal_width  petal_length  petal_width\n",
       "count     150.00000    150.00000     150.00000    150.00000\n",
       "mean       -0.00000     -0.00000       0.00000      0.00000\n",
       "std         1.00335      1.00335       1.00335      1.00335\n",
       "min        -1.87002     -2.43899      -1.56874     -1.44445\n",
       "25%        -0.90068     -0.58776      -1.22754     -1.18150\n",
       "50%        -0.05251     -0.12496       0.33627      0.13323\n",
       "75%         0.67450      0.56925       0.76276      0.79059\n",
       "max         2.49202      3.11468       1.78634      1.71090"
      ]
     },
     "execution_count": 5,
     "metadata": {},
     "output_type": "execute_result"
    }
   ],
   "source": [
    "temp=x_nol.round(6)\n",
    "temp.describe().round(5)"
   ]
  },
  {
   "cell_type": "code",
   "execution_count": 6,
   "metadata": {
    "colab": {
     "base_uri": "https://localhost:8080/",
     "height": 423
    },
    "executionInfo": {
     "elapsed": 31,
     "status": "ok",
     "timestamp": 1638649876158,
     "user": {
      "displayName": "何松諭",
      "photoUrl": "https://lh3.googleusercontent.com/a/default-user=s64",
      "userId": "12106821870852340669"
     },
     "user_tz": -480
    },
    "id": "NJ1o7jxi61Zq",
    "outputId": "46cb7c05-31db-46c1-97fc-a7437f8b709d"
   },
   "outputs": [
    {
     "data": {
      "text/html": [
       "<div>\n",
       "<style scoped>\n",
       "    .dataframe tbody tr th:only-of-type {\n",
       "        vertical-align: middle;\n",
       "    }\n",
       "\n",
       "    .dataframe tbody tr th {\n",
       "        vertical-align: top;\n",
       "    }\n",
       "\n",
       "    .dataframe thead th {\n",
       "        text-align: right;\n",
       "    }\n",
       "</style>\n",
       "<table border=\"1\" class=\"dataframe\">\n",
       "  <thead>\n",
       "    <tr style=\"text-align: right;\">\n",
       "      <th></th>\n",
       "      <th>sepal_length</th>\n",
       "      <th>sepal_width</th>\n",
       "      <th>petal_length</th>\n",
       "      <th>petal_width</th>\n",
       "    </tr>\n",
       "  </thead>\n",
       "  <tbody>\n",
       "    <tr>\n",
       "      <th>0</th>\n",
       "      <td>-0.900681</td>\n",
       "      <td>1.032057</td>\n",
       "      <td>-1.341272</td>\n",
       "      <td>-1.312977</td>\n",
       "    </tr>\n",
       "    <tr>\n",
       "      <th>1</th>\n",
       "      <td>-1.143017</td>\n",
       "      <td>-0.124958</td>\n",
       "      <td>-1.341272</td>\n",
       "      <td>-1.312977</td>\n",
       "    </tr>\n",
       "    <tr>\n",
       "      <th>2</th>\n",
       "      <td>-1.385353</td>\n",
       "      <td>0.337848</td>\n",
       "      <td>-1.398138</td>\n",
       "      <td>-1.312977</td>\n",
       "    </tr>\n",
       "    <tr>\n",
       "      <th>3</th>\n",
       "      <td>-1.506521</td>\n",
       "      <td>0.106445</td>\n",
       "      <td>-1.284407</td>\n",
       "      <td>-1.312977</td>\n",
       "    </tr>\n",
       "    <tr>\n",
       "      <th>4</th>\n",
       "      <td>-1.021849</td>\n",
       "      <td>1.263460</td>\n",
       "      <td>-1.341272</td>\n",
       "      <td>-1.312977</td>\n",
       "    </tr>\n",
       "    <tr>\n",
       "      <th>...</th>\n",
       "      <td>...</td>\n",
       "      <td>...</td>\n",
       "      <td>...</td>\n",
       "      <td>...</td>\n",
       "    </tr>\n",
       "    <tr>\n",
       "      <th>145</th>\n",
       "      <td>1.038005</td>\n",
       "      <td>-0.124958</td>\n",
       "      <td>0.819624</td>\n",
       "      <td>1.447956</td>\n",
       "    </tr>\n",
       "    <tr>\n",
       "      <th>146</th>\n",
       "      <td>0.553333</td>\n",
       "      <td>-1.281972</td>\n",
       "      <td>0.705893</td>\n",
       "      <td>0.922064</td>\n",
       "    </tr>\n",
       "    <tr>\n",
       "      <th>147</th>\n",
       "      <td>0.795669</td>\n",
       "      <td>-0.124958</td>\n",
       "      <td>0.819624</td>\n",
       "      <td>1.053537</td>\n",
       "    </tr>\n",
       "    <tr>\n",
       "      <th>148</th>\n",
       "      <td>0.432165</td>\n",
       "      <td>0.800654</td>\n",
       "      <td>0.933356</td>\n",
       "      <td>1.447956</td>\n",
       "    </tr>\n",
       "    <tr>\n",
       "      <th>149</th>\n",
       "      <td>0.068662</td>\n",
       "      <td>-0.124958</td>\n",
       "      <td>0.762759</td>\n",
       "      <td>0.790591</td>\n",
       "    </tr>\n",
       "  </tbody>\n",
       "</table>\n",
       "<p>150 rows × 4 columns</p>\n",
       "</div>"
      ],
      "text/plain": [
       "     sepal_length  sepal_width  petal_length  petal_width\n",
       "0       -0.900681     1.032057     -1.341272    -1.312977\n",
       "1       -1.143017    -0.124958     -1.341272    -1.312977\n",
       "2       -1.385353     0.337848     -1.398138    -1.312977\n",
       "3       -1.506521     0.106445     -1.284407    -1.312977\n",
       "4       -1.021849     1.263460     -1.341272    -1.312977\n",
       "..            ...          ...           ...          ...\n",
       "145      1.038005    -0.124958      0.819624     1.447956\n",
       "146      0.553333    -1.281972      0.705893     0.922064\n",
       "147      0.795669    -0.124958      0.819624     1.053537\n",
       "148      0.432165     0.800654      0.933356     1.447956\n",
       "149      0.068662    -0.124958      0.762759     0.790591\n",
       "\n",
       "[150 rows x 4 columns]"
      ]
     },
     "execution_count": 6,
     "metadata": {},
     "output_type": "execute_result"
    }
   ],
   "source": [
    "temp"
   ]
  },
  {
   "cell_type": "code",
   "execution_count": 7,
   "metadata": {
    "colab": {
     "base_uri": "https://localhost:8080/"
    },
    "executionInfo": {
     "elapsed": 39,
     "status": "ok",
     "timestamp": 1638649876169,
     "user": {
      "displayName": "何松諭",
      "photoUrl": "https://lh3.googleusercontent.com/a/default-user=s64",
      "userId": "12106821870852340669"
     },
     "user_tz": -480
    },
    "id": "tU2V-FDOl7vo",
    "outputId": "71aa0a65-f11f-4fcf-8561-1a3044fb6bde"
   },
   "outputs": [
    {
     "data": {
      "text/plain": [
       "NearestNeighbors()"
      ]
     },
     "execution_count": 7,
     "metadata": {},
     "output_type": "execute_result"
    }
   ],
   "source": [
    "from sklearn.neighbors import NearestNeighbors\n",
    "neigh = NearestNeighbors()\n",
    "neigh.fit(x_nol)"
   ]
  },
  {
   "cell_type": "code",
   "execution_count": 8,
   "metadata": {
    "executionInfo": {
     "elapsed": 39,
     "status": "ok",
     "timestamp": 1638649876171,
     "user": {
      "displayName": "何松諭",
      "photoUrl": "https://lh3.googleusercontent.com/a/default-user=s64",
      "userId": "12106821870852340669"
     },
     "user_tz": -480
    },
    "id": "KbPjABPlm1aV"
   },
   "outputs": [],
   "source": [
    "temp=pd.DataFrame()\n",
    "for i in range(5,50,5):\n",
    "  X_dist=neigh.kneighbors(x_nol,i)\n",
    "  temp[i]=sorted(X_dist[0][:,-1])\n"
   ]
  },
  {
   "cell_type": "code",
   "execution_count": 42,
   "metadata": {
    "colab": {
     "base_uri": "https://localhost:8080/",
     "height": 969
    },
    "executionInfo": {
     "elapsed": 2146,
     "status": "ok",
     "timestamp": 1638652229828,
     "user": {
      "displayName": "何松諭",
      "photoUrl": "https://lh3.googleusercontent.com/a/default-user=s64",
      "userId": "12106821870852340669"
     },
     "user_tz": -480
    },
    "id": "0CbIHYnEnogu",
    "outputId": "d6816127-1b9e-4d6e-f054-4146c2512a07"
   },
   "outputs": [
    {
     "data": {
      "text/plain": [
       "Text(0.5, 0, 'points sorted distance of k nearest neighbor')"
      ]
     },
     "execution_count": 42,
     "metadata": {},
     "output_type": "execute_result"
    },
    {
     "data": {
      "image/png": "[encoded data removed]",
      "text/plain": [
       "<Figure size 1152x1152 with 1 Axes>"
      ]
     },
     "metadata": {
      "needs_background": "light"
     },
     "output_type": "display_data"
    }
   ],
   "source": [
    "yticks=np.arange(0.2,3.6,0.2)\n",
    "xticks=np.arange(0,151,2)\n",
    "temp=temp.round(decimals=6)\n",
    "temp.plot(figsize=(16,16),yticks=yticks,xticks=xticks,rot=(60),ylim=(0.2,3.6),xlim=(-1,150),\n",
    "       fontsize=12,grid=True,style ='.-')\n",
    "plt.legend(prop={\"size\":12})\n",
    "plt.ylabel('k nearest neighbor distance',fontsize=12)\n",
    "plt.xlabel('points sorted distance of k nearest neighbor',fontsize=12)"
   ]
  },
  {
   "cell_type": "code",
   "execution_count": 10,
   "metadata": {
    "colab": {
     "base_uri": "https://localhost:8080/"
    },
    "executionInfo": {
     "elapsed": 66,
     "status": "ok",
     "timestamp": 1638649878385,
     "user": {
      "displayName": "何松諭",
      "photoUrl": "https://lh3.googleusercontent.com/a/default-user=s64",
      "userId": "12106821870852340669"
     },
     "user_tz": -480
    },
    "id": "U-TeE_M0wYpp",
    "outputId": "6c339b02-ee85-4d66-a170-f9de494f5ed6"
   },
   "outputs": [
    {
     "name": "stdout",
     "output_type": "stream",
     "text": [
      "5     25.254624\n",
      "10    12.360871\n",
      "15     8.563432\n",
      "20    10.962856\n",
      "25     6.910854\n",
      "30    10.578738\n",
      "35    14.178999\n",
      "40     9.730442\n",
      "45    11.886666\n",
      "dtype: float64\n",
      "5     147\n",
      "10    145\n",
      "15    147\n",
      "20    146\n",
      "25    144\n",
      "30    143\n",
      "35    149\n",
      "40    149\n",
      "45    149\n",
      "dtype: int64\n"
     ]
    }
   ],
   "source": [
    "temp1:pd.DataFrame=temp.diff(1).dropna()/temp.iloc()[1:,:]*100\n",
    "print(temp1.max(axis=0))\n",
    "print(temp1.idxmax(axis=0))"
   ]
  },
  {
   "cell_type": "code",
   "execution_count": 11,
   "metadata": {
    "colab": {
     "base_uri": "https://localhost:8080/",
     "height": 331
    },
    "executionInfo": {
     "elapsed": 66,
     "status": "ok",
     "timestamp": 1638649878388,
     "user": {
      "displayName": "何松諭",
      "photoUrl": "https://lh3.googleusercontent.com/a/default-user=s64",
      "userId": "12106821870852340669"
     },
     "user_tz": -480
    },
    "id": "_FgRDRCiymTP",
    "outputId": "f45eead9-d81f-4ebd-87c1-d40d09adc182"
   },
   "outputs": [
    {
     "data": {
      "text/html": [
       "<div>\n",
       "<style scoped>\n",
       "    .dataframe tbody tr th:only-of-type {\n",
       "        vertical-align: middle;\n",
       "    }\n",
       "\n",
       "    .dataframe tbody tr th {\n",
       "        vertical-align: top;\n",
       "    }\n",
       "\n",
       "    .dataframe thead th {\n",
       "        text-align: right;\n",
       "    }\n",
       "</style>\n",
       "<table border=\"1\" class=\"dataframe\">\n",
       "  <thead>\n",
       "    <tr style=\"text-align: right;\">\n",
       "      <th></th>\n",
       "      <th>5</th>\n",
       "      <th>10</th>\n",
       "      <th>15</th>\n",
       "      <th>20</th>\n",
       "      <th>25</th>\n",
       "      <th>30</th>\n",
       "      <th>35</th>\n",
       "      <th>40</th>\n",
       "      <th>45</th>\n",
       "    </tr>\n",
       "  </thead>\n",
       "  <tbody>\n",
       "    <tr>\n",
       "      <th>146</th>\n",
       "      <td>1.218094</td>\n",
       "      <td>1.657986</td>\n",
       "      <td>1.934945</td>\n",
       "      <td>2.091061</td>\n",
       "      <td>2.237894</td>\n",
       "      <td>2.419431</td>\n",
       "      <td>2.580262</td>\n",
       "      <td>2.671039</td>\n",
       "      <td>2.906459</td>\n",
       "    </tr>\n",
       "    <tr>\n",
       "      <th>144</th>\n",
       "      <td>1.083392</td>\n",
       "      <td>1.393605</td>\n",
       "      <td>1.735179</td>\n",
       "      <td>1.854802</td>\n",
       "      <td>2.056591</td>\n",
       "      <td>2.157953</td>\n",
       "      <td>2.438763</td>\n",
       "      <td>2.561445</td>\n",
       "      <td>2.671054</td>\n",
       "    </tr>\n",
       "    <tr>\n",
       "      <th>146</th>\n",
       "      <td>1.218094</td>\n",
       "      <td>1.657986</td>\n",
       "      <td>1.934945</td>\n",
       "      <td>2.091061</td>\n",
       "      <td>2.237894</td>\n",
       "      <td>2.419431</td>\n",
       "      <td>2.580262</td>\n",
       "      <td>2.671039</td>\n",
       "      <td>2.906459</td>\n",
       "    </tr>\n",
       "    <tr>\n",
       "      <th>145</th>\n",
       "      <td>1.112085</td>\n",
       "      <td>1.590163</td>\n",
       "      <td>1.819622</td>\n",
       "      <td>1.861821</td>\n",
       "      <td>2.150667</td>\n",
       "      <td>2.332363</td>\n",
       "      <td>2.511433</td>\n",
       "      <td>2.625387</td>\n",
       "      <td>2.673631</td>\n",
       "    </tr>\n",
       "    <tr>\n",
       "      <th>143</th>\n",
       "      <td>1.048873</td>\n",
       "      <td>1.373442</td>\n",
       "      <td>1.620819</td>\n",
       "      <td>1.780072</td>\n",
       "      <td>1.914463</td>\n",
       "      <td>2.152563</td>\n",
       "      <td>2.292433</td>\n",
       "      <td>2.420173</td>\n",
       "      <td>2.617846</td>\n",
       "    </tr>\n",
       "    <tr>\n",
       "      <th>142</th>\n",
       "      <td>1.031365</td>\n",
       "      <td>1.306508</td>\n",
       "      <td>1.551933</td>\n",
       "      <td>1.692082</td>\n",
       "      <td>1.832186</td>\n",
       "      <td>1.924849</td>\n",
       "      <td>2.290229</td>\n",
       "      <td>2.369033</td>\n",
       "      <td>2.591788</td>\n",
       "    </tr>\n",
       "    <tr>\n",
       "      <th>148</th>\n",
       "      <td>1.774121</td>\n",
       "      <td>1.886989</td>\n",
       "      <td>2.128451</td>\n",
       "      <td>2.264754</td>\n",
       "      <td>2.401700</td>\n",
       "      <td>2.511631</td>\n",
       "      <td>2.611703</td>\n",
       "      <td>2.893430</td>\n",
       "      <td>2.989014</td>\n",
       "    </tr>\n",
       "    <tr>\n",
       "      <th>148</th>\n",
       "      <td>1.774121</td>\n",
       "      <td>1.886989</td>\n",
       "      <td>2.128451</td>\n",
       "      <td>2.264754</td>\n",
       "      <td>2.401700</td>\n",
       "      <td>2.511631</td>\n",
       "      <td>2.611703</td>\n",
       "      <td>2.893430</td>\n",
       "      <td>2.989014</td>\n",
       "    </tr>\n",
       "    <tr>\n",
       "      <th>148</th>\n",
       "      <td>1.774121</td>\n",
       "      <td>1.886989</td>\n",
       "      <td>2.128451</td>\n",
       "      <td>2.264754</td>\n",
       "      <td>2.401700</td>\n",
       "      <td>2.511631</td>\n",
       "      <td>2.611703</td>\n",
       "      <td>2.893430</td>\n",
       "      <td>2.989014</td>\n",
       "    </tr>\n",
       "  </tbody>\n",
       "</table>\n",
       "</div>"
      ],
      "text/plain": [
       "           5         10        15  ...        35        40        45\n",
       "146  1.218094  1.657986  1.934945  ...  2.580262  2.671039  2.906459\n",
       "144  1.083392  1.393605  1.735179  ...  2.438763  2.561445  2.671054\n",
       "146  1.218094  1.657986  1.934945  ...  2.580262  2.671039  2.906459\n",
       "145  1.112085  1.590163  1.819622  ...  2.511433  2.625387  2.673631\n",
       "143  1.048873  1.373442  1.620819  ...  2.292433  2.420173  2.617846\n",
       "142  1.031365  1.306508  1.551933  ...  2.290229  2.369033  2.591788\n",
       "148  1.774121  1.886989  2.128451  ...  2.611703  2.893430  2.989014\n",
       "148  1.774121  1.886989  2.128451  ...  2.611703  2.893430  2.989014\n",
       "148  1.774121  1.886989  2.128451  ...  2.611703  2.893430  2.989014\n",
       "\n",
       "[9 rows x 9 columns]"
      ]
     },
     "execution_count": 11,
     "metadata": {},
     "output_type": "execute_result"
    }
   ],
   "source": [
    "temp.iloc()[temp1.idxmax(axis=0)-1,]"
   ]
  },
  {
   "cell_type": "markdown",
   "metadata": {
    "id": "QmUay4sc5i21"
   },
   "source": [
    "# DBSCAN fit\n"
   ]
  },
  {
   "cell_type": "code",
   "execution_count": 12,
   "metadata": {
    "colab": {
     "base_uri": "https://localhost:8080/"
    },
    "executionInfo": {
     "elapsed": 62,
     "status": "ok",
     "timestamp": 1638649878390,
     "user": {
      "displayName": "何松諭",
      "photoUrl": "https://lh3.googleusercontent.com/a/default-user=s64",
      "userId": "12106821870852340669"
     },
     "user_tz": -480
    },
    "id": "YJbShzGg5LTx",
    "outputId": "bd20f529-3e03-451b-a9da-8b00a55a914e"
   },
   "outputs": [
    {
     "name": "stdout",
     "output_type": "stream",
     "text": [
      "using time is 10.387421 ms \n"
     ]
    }
   ],
   "source": [
    "k_stat = time.time()\n",
    "db_scan = DBSCAN(eps=1.218094, min_samples=5)\n",
    "db_scan_lable = db_scan.fit_predict(x)\n",
    "k_end = time.time() - k_stat\n",
    "print(f'using time is {k_end*1000:.6f} ms ')"
   ]
  },
  {
   "cell_type": "code",
   "execution_count": 13,
   "metadata": {
    "colab": {
     "base_uri": "https://localhost:8080/",
     "height": 143
    },
    "executionInfo": {
     "elapsed": 60,
     "status": "ok",
     "timestamp": 1638649878394,
     "user": {
      "displayName": "何松諭",
      "photoUrl": "https://lh3.googleusercontent.com/a/default-user=s64",
      "userId": "12106821870852340669"
     },
     "user_tz": -480
    },
    "id": "wMJ5BK9D5RAW",
    "outputId": "e63d062b-105f-447c-920c-9cf21230d69b"
   },
   "outputs": [
    {
     "data": {
      "text/html": [
       "<div>\n",
       "<style scoped>\n",
       "    .dataframe tbody tr th:only-of-type {\n",
       "        vertical-align: middle;\n",
       "    }\n",
       "\n",
       "    .dataframe tbody tr th {\n",
       "        vertical-align: top;\n",
       "    }\n",
       "\n",
       "    .dataframe thead th {\n",
       "        text-align: right;\n",
       "    }\n",
       "</style>\n",
       "<table border=\"1\" class=\"dataframe\">\n",
       "  <thead>\n",
       "    <tr style=\"text-align: right;\">\n",
       "      <th></th>\n",
       "      <th>Iris-versicolor</th>\n",
       "      <th>Iris-virginica</th>\n",
       "      <th>Iris-setosa</th>\n",
       "    </tr>\n",
       "    <tr>\n",
       "      <th>db_scan_lable</th>\n",
       "      <th></th>\n",
       "      <th></th>\n",
       "      <th></th>\n",
       "    </tr>\n",
       "  </thead>\n",
       "  <tbody>\n",
       "    <tr>\n",
       "      <th>0</th>\n",
       "      <td>50.0</td>\n",
       "      <td>0.0</td>\n",
       "      <td>0.0</td>\n",
       "    </tr>\n",
       "    <tr>\n",
       "      <th>1</th>\n",
       "      <td>0.0</td>\n",
       "      <td>50.0</td>\n",
       "      <td>50.0</td>\n",
       "    </tr>\n",
       "  </tbody>\n",
       "</table>\n",
       "</div>"
      ],
      "text/plain": [
       "               Iris-versicolor  Iris-virginica  Iris-setosa\n",
       "db_scan_lable                                              \n",
       "0                         50.0             0.0          0.0\n",
       "1                          0.0            50.0         50.0"
      ]
     },
     "execution_count": 13,
     "metadata": {},
     "output_type": "execute_result"
    }
   ],
   "source": [
    "df['db_scan_lable'] = db_scan_lable\n",
    "\n",
    "df_db_scan = df.pivot_table(index=['db_scan_lable'],\n",
    "                     columns=['class'],\n",
    "                     values=['sepal_length'],\n",
    "                     aggfunc=\"count\")\n",
    "\n",
    "df_db_scan.columns = df['class'].value_counts().index\n",
    "df_db_scan = df_db_scan.fillna(value=0)\n",
    "df_db_scan"
   ]
  },
  {
   "cell_type": "markdown",
   "metadata": {
    "id": "6q2rUcZP5wqS"
   },
   "source": [
    "# purity"
   ]
  },
  {
   "cell_type": "code",
   "execution_count": 14,
   "metadata": {
    "colab": {
     "base_uri": "https://localhost:8080/",
     "height": 162
    },
    "executionInfo": {
     "elapsed": 60,
     "status": "ok",
     "timestamp": 1638649878396,
     "user": {
      "displayName": "何松諭",
      "photoUrl": "https://lh3.googleusercontent.com/a/default-user=s64",
      "userId": "12106821870852340669"
     },
     "user_tz": -480
    },
    "id": "LcjYNc8o5Wxx",
    "outputId": "c7a590e7-81cf-4c15-e15c-ed3e76d1eb75"
   },
   "outputs": [
    {
     "name": "stdout",
     "output_type": "stream",
     "text": [
      "total purity for DBSCAN is 0.666667\n"
     ]
    },
    {
     "data": {
      "text/html": [
       "<div>\n",
       "<style scoped>\n",
       "    .dataframe tbody tr th:only-of-type {\n",
       "        vertical-align: middle;\n",
       "    }\n",
       "\n",
       "    .dataframe tbody tr th {\n",
       "        vertical-align: top;\n",
       "    }\n",
       "\n",
       "    .dataframe thead th {\n",
       "        text-align: right;\n",
       "    }\n",
       "</style>\n",
       "<table border=\"1\" class=\"dataframe\">\n",
       "  <thead>\n",
       "    <tr style=\"text-align: right;\">\n",
       "      <th></th>\n",
       "      <th>Iris-versicolor</th>\n",
       "      <th>Iris-virginica</th>\n",
       "      <th>Iris-setosa</th>\n",
       "      <th>purity</th>\n",
       "      <th>purity_weight</th>\n",
       "    </tr>\n",
       "    <tr>\n",
       "      <th>db_scan_lable</th>\n",
       "      <th></th>\n",
       "      <th></th>\n",
       "      <th></th>\n",
       "      <th></th>\n",
       "      <th></th>\n",
       "    </tr>\n",
       "  </thead>\n",
       "  <tbody>\n",
       "    <tr>\n",
       "      <th>0</th>\n",
       "      <td>50.0</td>\n",
       "      <td>0.0</td>\n",
       "      <td>0.0</td>\n",
       "      <td>1.0</td>\n",
       "      <td>0.333333</td>\n",
       "    </tr>\n",
       "    <tr>\n",
       "      <th>1</th>\n",
       "      <td>0.0</td>\n",
       "      <td>50.0</td>\n",
       "      <td>50.0</td>\n",
       "      <td>0.5</td>\n",
       "      <td>0.333333</td>\n",
       "    </tr>\n",
       "  </tbody>\n",
       "</table>\n",
       "</div>"
      ],
      "text/plain": [
       "               Iris-versicolor  Iris-virginica  ...  purity  purity_weight\n",
       "db_scan_lable                                   ...                       \n",
       "0                         50.0             0.0  ...     1.0       0.333333\n",
       "1                          0.0            50.0  ...     0.5       0.333333\n",
       "\n",
       "[2 rows x 5 columns]"
      ]
     },
     "execution_count": 14,
     "metadata": {},
     "output_type": "execute_result"
    }
   ],
   "source": [
    "def get_purity(df: pd.DataFrame):\n",
    "    temp = df / df.sum()\n",
    "    purity = temp.max()\n",
    "    return purity\n",
    "\n",
    "\n",
    "df_db_scan['purity'] = df_db_scan.apply(get_purity, axis=1)\n",
    "df_db_scan['purity_weight'] = (df_db_scan.loc()[0:,'purity'] * (df_db_scan.loc()[0:,'Iris-versicolor':'Iris-setosa'].sum(axis=1) / df_db_scan.loc()[0:,'Iris-versicolor':'Iris-setosa'].sum(axis=1).sum()))\n",
    "db_scan_total_purity = df_db_scan['purity_weight'].sum()\n",
    "print(f'total purity for DBSCAN is {db_scan_total_purity:.6f}')\n",
    "df_db_scan"
   ]
  }
 ],
 "metadata": {
  "colab": {
   "authorship_tag": "ABX9TyMsQ8IlmrpPs1UFcMiZnGAq",
   "collapsed_sections": [],
   "mount_file_id": "1IRjSxUBEDCSbN21ww--FwMCRmurHKQ5N",
   "name": "iris_DBSCAN.ipynb",
   "provenance": []
  },
  "kernelspec": {
   "display_name": "Python 3",
   "language": "python",
   "name": "python3"
  },
  "language_info": {
   "codemirror_mode": {
    "name": "ipython",
    "version": 3
   },
   "file_extension": ".py",
   "mimetype": "text/x-python",
   "name": "python",
   "nbconvert_exporter": "python",
   "pygments_lexer": "ipython3",
   "version": "3.7.7"
  }
 },
 "nbformat": 4,
 "nbformat_minor": 1
}
