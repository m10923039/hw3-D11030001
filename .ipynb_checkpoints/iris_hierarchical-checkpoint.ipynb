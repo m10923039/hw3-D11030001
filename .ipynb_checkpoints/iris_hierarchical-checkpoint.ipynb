{
 "cells": [
  {
   "cell_type": "code",
   "execution_count": 1,
   "metadata": {
    "colab": {
     "base_uri": "https://localhost:8080/",
     "height": 423
    },
    "executionInfo": {
     "elapsed": 829,
     "status": "ok",
     "timestamp": 1638649659066,
     "user": {
      "displayName": "何松諭",
      "photoUrl": "https://lh3.googleusercontent.com/a/default-user=s64",
      "userId": "12106821870852340669"
     },
     "user_tz": -480
    },
    "id": "QFtQyVCf45Gj",
    "outputId": "8fc32b85-fc39-49f6-a1d1-80e68f53552a"
   },
   "outputs": [
    {
     "data": {
      "text/html": [
       "<div>\n",
       "<style scoped>\n",
       "    .dataframe tbody tr th:only-of-type {\n",
       "        vertical-align: middle;\n",
       "    }\n",
       "\n",
       "    .dataframe tbody tr th {\n",
       "        vertical-align: top;\n",
       "    }\n",
       "\n",
       "    .dataframe thead th {\n",
       "        text-align: right;\n",
       "    }\n",
       "</style>\n",
       "<table border=\"1\" class=\"dataframe\">\n",
       "  <thead>\n",
       "    <tr style=\"text-align: right;\">\n",
       "      <th></th>\n",
       "      <th>sepal_length</th>\n",
       "      <th>sepal_width</th>\n",
       "      <th>petal_length</th>\n",
       "      <th>petal_width</th>\n",
       "    </tr>\n",
       "  </thead>\n",
       "  <tbody>\n",
       "    <tr>\n",
       "      <th>0</th>\n",
       "      <td>-0.900681</td>\n",
       "      <td>1.032057</td>\n",
       "      <td>-1.341272</td>\n",
       "      <td>-1.312977</td>\n",
       "    </tr>\n",
       "    <tr>\n",
       "      <th>1</th>\n",
       "      <td>-1.143017</td>\n",
       "      <td>-0.124958</td>\n",
       "      <td>-1.341272</td>\n",
       "      <td>-1.312977</td>\n",
       "    </tr>\n",
       "    <tr>\n",
       "      <th>2</th>\n",
       "      <td>-1.385353</td>\n",
       "      <td>0.337848</td>\n",
       "      <td>-1.398138</td>\n",
       "      <td>-1.312977</td>\n",
       "    </tr>\n",
       "    <tr>\n",
       "      <th>3</th>\n",
       "      <td>-1.506521</td>\n",
       "      <td>0.106445</td>\n",
       "      <td>-1.284407</td>\n",
       "      <td>-1.312977</td>\n",
       "    </tr>\n",
       "    <tr>\n",
       "      <th>4</th>\n",
       "      <td>-1.021849</td>\n",
       "      <td>1.263460</td>\n",
       "      <td>-1.341272</td>\n",
       "      <td>-1.312977</td>\n",
       "    </tr>\n",
       "    <tr>\n",
       "      <th>...</th>\n",
       "      <td>...</td>\n",
       "      <td>...</td>\n",
       "      <td>...</td>\n",
       "      <td>...</td>\n",
       "    </tr>\n",
       "    <tr>\n",
       "      <th>145</th>\n",
       "      <td>1.038005</td>\n",
       "      <td>-0.124958</td>\n",
       "      <td>0.819624</td>\n",
       "      <td>1.447956</td>\n",
       "    </tr>\n",
       "    <tr>\n",
       "      <th>146</th>\n",
       "      <td>0.553333</td>\n",
       "      <td>-1.281972</td>\n",
       "      <td>0.705893</td>\n",
       "      <td>0.922064</td>\n",
       "    </tr>\n",
       "    <tr>\n",
       "      <th>147</th>\n",
       "      <td>0.795669</td>\n",
       "      <td>-0.124958</td>\n",
       "      <td>0.819624</td>\n",
       "      <td>1.053537</td>\n",
       "    </tr>\n",
       "    <tr>\n",
       "      <th>148</th>\n",
       "      <td>0.432165</td>\n",
       "      <td>0.800654</td>\n",
       "      <td>0.933356</td>\n",
       "      <td>1.447956</td>\n",
       "    </tr>\n",
       "    <tr>\n",
       "      <th>149</th>\n",
       "      <td>0.068662</td>\n",
       "      <td>-0.124958</td>\n",
       "      <td>0.762759</td>\n",
       "      <td>0.790591</td>\n",
       "    </tr>\n",
       "  </tbody>\n",
       "</table>\n",
       "<p>150 rows × 4 columns</p>\n",
       "</div>"
      ],
      "text/plain": [
       "     sepal_length  sepal_width  petal_length  petal_width\n",
       "0       -0.900681     1.032057     -1.341272    -1.312977\n",
       "1       -1.143017    -0.124958     -1.341272    -1.312977\n",
       "2       -1.385353     0.337848     -1.398138    -1.312977\n",
       "3       -1.506521     0.106445     -1.284407    -1.312977\n",
       "4       -1.021849     1.263460     -1.341272    -1.312977\n",
       "..            ...          ...           ...          ...\n",
       "145      1.038005    -0.124958      0.819624     1.447956\n",
       "146      0.553333    -1.281972      0.705893     0.922064\n",
       "147      0.795669    -0.124958      0.819624     1.053537\n",
       "148      0.432165     0.800654      0.933356     1.447956\n",
       "149      0.068662    -0.124958      0.762759     0.790591\n",
       "\n",
       "[150 rows x 4 columns]"
      ]
     },
     "execution_count": 1,
     "metadata": {},
     "output_type": "execute_result"
    }
   ],
   "source": [
    "import numpy as np\n",
    "import pandas as pd\n",
    "import matplotlib.pyplot as plt\n",
    "from sklearn.cluster import AgglomerativeClustering\n",
    "from sklearn.preprocessing import MinMaxScaler,StandardScaler\n",
    "import time\n",
    "\n",
    "def load_data(file_path: str):\n",
    "    df = pd.read_csv(file_path, header=None)\n",
    "    df.columns = [\n",
    "        'sepal_length',\n",
    "        'sepal_width',\n",
    "        'petal_length',\n",
    "        'petal_width',\n",
    "        'class'\n",
    "    ]\n",
    "    return df\n",
    "\n",
    "\n",
    "df = load_data('/content/drive/MyDrive/Colab Notebooks/31_DM/30_homeWork3/iris.data')\n",
    "# %%\n",
    "x: pd.DataFrame = df.iloc()[:, :-1]\n",
    "scaler = StandardScaler()\n",
    "x_nol = scaler.fit_transform(x)\n",
    "x_nol=pd.DataFrame(x_nol,columns=x.columns)\n",
    "x_nol"
   ]
  },
  {
   "cell_type": "markdown",
   "metadata": {
    "id": "QmUay4sc5i21"
   },
   "source": [
    "# Hierarchical  fit\n"
   ]
  },
  {
   "cell_type": "code",
   "execution_count": 2,
   "metadata": {
    "colab": {
     "base_uri": "https://localhost:8080/"
    },
    "executionInfo": {
     "elapsed": 18,
     "status": "ok",
     "timestamp": 1638649659066,
     "user": {
      "displayName": "何松諭",
      "photoUrl": "https://lh3.googleusercontent.com/a/default-user=s64",
      "userId": "12106821870852340669"
     },
     "user_tz": -480
    },
    "id": "YJbShzGg5LTx",
    "outputId": "a86aaeb9-f8f1-47c7-e6c4-d63cf7326ee5"
   },
   "outputs": [
    {
     "name": "stdout",
     "output_type": "stream",
     "text": [
      "using time is 69.840193 ms \n"
     ]
    }
   ],
   "source": [
    "k_stat = time.time()\n",
    "hierarchical = AgglomerativeClustering(n_clusters=3,compute_distances=True)\n",
    "hierarchical_lable = hierarchical.fit_predict(x_nol)\n",
    "k_end = time.time() - k_stat\n",
    "print(f'using time is {k_end*1000:.6f} ms ')"
   ]
  },
  {
   "cell_type": "code",
   "execution_count": 3,
   "metadata": {
    "colab": {
     "base_uri": "https://localhost:8080/",
     "height": 174
    },
    "executionInfo": {
     "elapsed": 17,
     "status": "ok",
     "timestamp": 1638649659067,
     "user": {
      "displayName": "何松諭",
      "photoUrl": "https://lh3.googleusercontent.com/a/default-user=s64",
      "userId": "12106821870852340669"
     },
     "user_tz": -480
    },
    "id": "wMJ5BK9D5RAW",
    "outputId": "f9c73f9b-23ae-4b55-8227-0288a495dd61"
   },
   "outputs": [
    {
     "data": {
      "text/html": [
       "<div>\n",
       "<style scoped>\n",
       "    .dataframe tbody tr th:only-of-type {\n",
       "        vertical-align: middle;\n",
       "    }\n",
       "\n",
       "    .dataframe tbody tr th {\n",
       "        vertical-align: top;\n",
       "    }\n",
       "\n",
       "    .dataframe thead th {\n",
       "        text-align: right;\n",
       "    }\n",
       "</style>\n",
       "<table border=\"1\" class=\"dataframe\">\n",
       "  <thead>\n",
       "    <tr style=\"text-align: right;\">\n",
       "      <th></th>\n",
       "      <th>Iris-virginica</th>\n",
       "      <th>Iris-versicolor</th>\n",
       "      <th>Iris-setosa</th>\n",
       "    </tr>\n",
       "    <tr>\n",
       "      <th>hierarchical_lable</th>\n",
       "      <th></th>\n",
       "      <th></th>\n",
       "      <th></th>\n",
       "    </tr>\n",
       "  </thead>\n",
       "  <tbody>\n",
       "    <tr>\n",
       "      <th>0</th>\n",
       "      <td>0.0</td>\n",
       "      <td>23.0</td>\n",
       "      <td>48.0</td>\n",
       "    </tr>\n",
       "    <tr>\n",
       "      <th>1</th>\n",
       "      <td>49.0</td>\n",
       "      <td>0.0</td>\n",
       "      <td>0.0</td>\n",
       "    </tr>\n",
       "    <tr>\n",
       "      <th>2</th>\n",
       "      <td>1.0</td>\n",
       "      <td>27.0</td>\n",
       "      <td>2.0</td>\n",
       "    </tr>\n",
       "  </tbody>\n",
       "</table>\n",
       "</div>"
      ],
      "text/plain": [
       "                    Iris-virginica  Iris-versicolor  Iris-setosa\n",
       "hierarchical_lable                                              \n",
       "0                              0.0             23.0         48.0\n",
       "1                             49.0              0.0          0.0\n",
       "2                              1.0             27.0          2.0"
      ]
     },
     "execution_count": 3,
     "metadata": {},
     "output_type": "execute_result"
    }
   ],
   "source": [
    "df['hierarchical_lable'] = hierarchical_lable\n",
    "\n",
    "df_hierarchical = df.pivot_table(index=['hierarchical_lable'],\n",
    "                     columns=['class'],\n",
    "                     values=['sepal_length'],\n",
    "                     aggfunc=\"count\")\n",
    "\n",
    "df_hierarchical.columns = df['class'].value_counts().index\n",
    "df_hierarchical = df_hierarchical.fillna(value=0)\n",
    "df_hierarchical"
   ]
  },
  {
   "cell_type": "markdown",
   "metadata": {
    "id": "6q2rUcZP5wqS"
   },
   "source": [
    "# purity"
   ]
  },
  {
   "cell_type": "code",
   "execution_count": 4,
   "metadata": {
    "colab": {
     "base_uri": "https://localhost:8080/",
     "height": 193
    },
    "executionInfo": {
     "elapsed": 16,
     "status": "ok",
     "timestamp": 1638649659068,
     "user": {
      "displayName": "何松諭",
      "photoUrl": "https://lh3.googleusercontent.com/a/default-user=s64",
      "userId": "12106821870852340669"
     },
     "user_tz": -480
    },
    "id": "LcjYNc8o5Wxx",
    "outputId": "9ef0683f-8902-491f-da91-4c38891726cd"
   },
   "outputs": [
    {
     "name": "stdout",
     "output_type": "stream",
     "text": [
      "total purity for hierarchical is 0.826667\n"
     ]
    },
    {
     "data": {
      "text/html": [
       "<div>\n",
       "<style scoped>\n",
       "    .dataframe tbody tr th:only-of-type {\n",
       "        vertical-align: middle;\n",
       "    }\n",
       "\n",
       "    .dataframe tbody tr th {\n",
       "        vertical-align: top;\n",
       "    }\n",
       "\n",
       "    .dataframe thead th {\n",
       "        text-align: right;\n",
       "    }\n",
       "</style>\n",
       "<table border=\"1\" class=\"dataframe\">\n",
       "  <thead>\n",
       "    <tr style=\"text-align: right;\">\n",
       "      <th></th>\n",
       "      <th>Iris-virginica</th>\n",
       "      <th>Iris-versicolor</th>\n",
       "      <th>Iris-setosa</th>\n",
       "      <th>purity</th>\n",
       "      <th>purity_weight</th>\n",
       "    </tr>\n",
       "    <tr>\n",
       "      <th>hierarchical_lable</th>\n",
       "      <th></th>\n",
       "      <th></th>\n",
       "      <th></th>\n",
       "      <th></th>\n",
       "      <th></th>\n",
       "    </tr>\n",
       "  </thead>\n",
       "  <tbody>\n",
       "    <tr>\n",
       "      <th>0</th>\n",
       "      <td>0.0</td>\n",
       "      <td>23.0</td>\n",
       "      <td>48.0</td>\n",
       "      <td>0.676056</td>\n",
       "      <td>0.320000</td>\n",
       "    </tr>\n",
       "    <tr>\n",
       "      <th>1</th>\n",
       "      <td>49.0</td>\n",
       "      <td>0.0</td>\n",
       "      <td>0.0</td>\n",
       "      <td>1.000000</td>\n",
       "      <td>0.326667</td>\n",
       "    </tr>\n",
       "    <tr>\n",
       "      <th>2</th>\n",
       "      <td>1.0</td>\n",
       "      <td>27.0</td>\n",
       "      <td>2.0</td>\n",
       "      <td>0.900000</td>\n",
       "      <td>0.180000</td>\n",
       "    </tr>\n",
       "  </tbody>\n",
       "</table>\n",
       "</div>"
      ],
      "text/plain": [
       "                    Iris-virginica  Iris-versicolor  ...    purity  purity_weight\n",
       "hierarchical_lable                                   ...                         \n",
       "0                              0.0             23.0  ...  0.676056       0.320000\n",
       "1                             49.0              0.0  ...  1.000000       0.326667\n",
       "2                              1.0             27.0  ...  0.900000       0.180000\n",
       "\n",
       "[3 rows x 5 columns]"
      ]
     },
     "execution_count": 4,
     "metadata": {},
     "output_type": "execute_result"
    }
   ],
   "source": [
    "def get_purity(df: pd.DataFrame):\n",
    "    temp = df / df.sum()\n",
    "    purity = temp.max()\n",
    "    return purity\n",
    "\n",
    "\n",
    "df_hierarchical['purity'] = df_hierarchical.apply(get_purity, axis=1)\n",
    "df_hierarchical['purity_weight'] = (df_hierarchical['purity'] * (df_hierarchical.iloc()[:, :-1].sum(axis=1) / df_hierarchical.iloc()[:, :-1].sum(axis=1).sum()))\n",
    "hierarchical_total_purity = df_hierarchical['purity_weight'].sum()\n",
    "print(f'total purity for hierarchical is {hierarchical_total_purity:.6f}')\n",
    "df_hierarchical"
   ]
  },
  {
   "cell_type": "code",
   "execution_count": 6,
   "metadata": {
    "colab": {
     "base_uri": "https://localhost:8080/",
     "height": 313
    },
    "executionInfo": {
     "elapsed": 877,
     "status": "ok",
     "timestamp": 1638651276139,
     "user": {
      "displayName": "何松諭",
      "photoUrl": "https://lh3.googleusercontent.com/a/default-user=s64",
      "userId": "12106821870852340669"
     },
     "user_tz": -480
    },
    "id": "K--OHYne7eOo",
    "outputId": "1ee82734-b426-48ec-9872-94b49c43e5b9"
   },
   "outputs": [
    {
     "data": {
      "image/png": "[encoded data removed]",
      "text/plain": [
       "<Figure size 432x288 with 1 Axes>"
      ]
     },
     "metadata": {
      "needs_background": "light"
     },
     "output_type": "display_data"
    }
   ],
   "source": [
    "from scipy.cluster.hierarchy import dendrogram\n",
    "\n",
    "def plot_dendrogram(model, **kwargs):\n",
    "    counts = np.zeros(model.children_.shape[0])\n",
    "    n_samples = len(model.labels_)\n",
    "    for i, merge in enumerate(model.children_):\n",
    "        current_count = 0\n",
    "        for child_idx in merge:\n",
    "            if child_idx < n_samples:\n",
    "                current_count += 1  # leaf node\n",
    "            else:\n",
    "                current_count += counts[child_idx - n_samples]\n",
    "        counts[i] = current_count\n",
    "\n",
    "    linkage_matrix = np.column_stack(\n",
    "        [model.children_, model.distances_, counts]\n",
    "    ).astype(float)\n",
    "    dendrogram(linkage_matrix, **kwargs)\n",
    "\n",
    "plt.title(\"Hierarchical Clustering Dendrogram\")\n",
    "\n",
    "plot_dendrogram(hierarchical, truncate_mode=\"level\", p=3)\n",
    "plt.xlabel(\"Number of points in node\")\n",
    "plt.xticks(rotation=60)\n",
    "plt.show()"
   ]
  }
 ],
 "metadata": {
  "colab": {
   "authorship_tag": "ABX9TyNZBiwM8qGAzoeigGx3tPBW",
   "collapsed_sections": [],
   "mount_file_id": "1Yik2n1cxusnOCKEcX-DWRPYsODzs5tti",
   "name": "iris_hierarchical.ipynb",
   "provenance": []
  },
  "kernelspec": {
   "display_name": "Python 3",
   "language": "python",
   "name": "python3"
  },
  "language_info": {
   "codemirror_mode": {
    "name": "ipython",
    "version": 3
   },
   "file_extension": ".py",
   "mimetype": "text/x-python",
   "name": "python",
   "nbconvert_exporter": "python",
   "pygments_lexer": "ipython3",
   "version": "3.7.7"
  }
 },
 "nbformat": 4,
 "nbformat_minor": 1
}
