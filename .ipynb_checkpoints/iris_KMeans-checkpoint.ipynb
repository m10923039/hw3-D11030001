{
 "cells": [
  {
   "cell_type": "code",
   "execution_count": 1,
   "metadata": {
    "colab": {
     "base_uri": "https://localhost:8080/",
     "height": 423
    },
    "executionInfo": {
     "elapsed": 1297,
     "status": "ok",
     "timestamp": 1638649688536,
     "user": {
      "displayName": "何松諭",
      "photoUrl": "https://lh3.googleusercontent.com/a/default-user=s64",
      "userId": "12106821870852340669"
     },
     "user_tz": -480
    },
    "id": "QFtQyVCf45Gj",
    "outputId": "65d68995-d9d2-4436-9e53-f11b0b4e3e36"
   },
   "outputs": [
    {
     "data": {
      "text/html": [
       "<div>\n",
       "<style scoped>\n",
       "    .dataframe tbody tr th:only-of-type {\n",
       "        vertical-align: middle;\n",
       "    }\n",
       "\n",
       "    .dataframe tbody tr th {\n",
       "        vertical-align: top;\n",
       "    }\n",
       "\n",
       "    .dataframe thead th {\n",
       "        text-align: right;\n",
       "    }\n",
       "</style>\n",
       "<table border=\"1\" class=\"dataframe\">\n",
       "  <thead>\n",
       "    <tr style=\"text-align: right;\">\n",
       "      <th></th>\n",
       "      <th>sepal_length</th>\n",
       "      <th>sepal_width</th>\n",
       "      <th>petal_length</th>\n",
       "      <th>petal_width</th>\n",
       "    </tr>\n",
       "  </thead>\n",
       "  <tbody>\n",
       "    <tr>\n",
       "      <th>0</th>\n",
       "      <td>-0.900681</td>\n",
       "      <td>1.032057</td>\n",
       "      <td>-1.341272</td>\n",
       "      <td>-1.312977</td>\n",
       "    </tr>\n",
       "    <tr>\n",
       "      <th>1</th>\n",
       "      <td>-1.143017</td>\n",
       "      <td>-0.124958</td>\n",
       "      <td>-1.341272</td>\n",
       "      <td>-1.312977</td>\n",
       "    </tr>\n",
       "    <tr>\n",
       "      <th>2</th>\n",
       "      <td>-1.385353</td>\n",
       "      <td>0.337848</td>\n",
       "      <td>-1.398138</td>\n",
       "      <td>-1.312977</td>\n",
       "    </tr>\n",
       "    <tr>\n",
       "      <th>3</th>\n",
       "      <td>-1.506521</td>\n",
       "      <td>0.106445</td>\n",
       "      <td>-1.284407</td>\n",
       "      <td>-1.312977</td>\n",
       "    </tr>\n",
       "    <tr>\n",
       "      <th>4</th>\n",
       "      <td>-1.021849</td>\n",
       "      <td>1.263460</td>\n",
       "      <td>-1.341272</td>\n",
       "      <td>-1.312977</td>\n",
       "    </tr>\n",
       "    <tr>\n",
       "      <th>...</th>\n",
       "      <td>...</td>\n",
       "      <td>...</td>\n",
       "      <td>...</td>\n",
       "      <td>...</td>\n",
       "    </tr>\n",
       "    <tr>\n",
       "      <th>145</th>\n",
       "      <td>1.038005</td>\n",
       "      <td>-0.124958</td>\n",
       "      <td>0.819624</td>\n",
       "      <td>1.447956</td>\n",
       "    </tr>\n",
       "    <tr>\n",
       "      <th>146</th>\n",
       "      <td>0.553333</td>\n",
       "      <td>-1.281972</td>\n",
       "      <td>0.705893</td>\n",
       "      <td>0.922064</td>\n",
       "    </tr>\n",
       "    <tr>\n",
       "      <th>147</th>\n",
       "      <td>0.795669</td>\n",
       "      <td>-0.124958</td>\n",
       "      <td>0.819624</td>\n",
       "      <td>1.053537</td>\n",
       "    </tr>\n",
       "    <tr>\n",
       "      <th>148</th>\n",
       "      <td>0.432165</td>\n",
       "      <td>0.800654</td>\n",
       "      <td>0.933356</td>\n",
       "      <td>1.447956</td>\n",
       "    </tr>\n",
       "    <tr>\n",
       "      <th>149</th>\n",
       "      <td>0.068662</td>\n",
       "      <td>-0.124958</td>\n",
       "      <td>0.762759</td>\n",
       "      <td>0.790591</td>\n",
       "    </tr>\n",
       "  </tbody>\n",
       "</table>\n",
       "<p>150 rows × 4 columns</p>\n",
       "</div>"
      ],
      "text/plain": [
       "     sepal_length  sepal_width  petal_length  petal_width\n",
       "0       -0.900681     1.032057     -1.341272    -1.312977\n",
       "1       -1.143017    -0.124958     -1.341272    -1.312977\n",
       "2       -1.385353     0.337848     -1.398138    -1.312977\n",
       "3       -1.506521     0.106445     -1.284407    -1.312977\n",
       "4       -1.021849     1.263460     -1.341272    -1.312977\n",
       "..            ...          ...           ...          ...\n",
       "145      1.038005    -0.124958      0.819624     1.447956\n",
       "146      0.553333    -1.281972      0.705893     0.922064\n",
       "147      0.795669    -0.124958      0.819624     1.053537\n",
       "148      0.432165     0.800654      0.933356     1.447956\n",
       "149      0.068662    -0.124958      0.762759     0.790591\n",
       "\n",
       "[150 rows x 4 columns]"
      ]
     },
     "execution_count": 1,
     "metadata": {},
     "output_type": "execute_result"
    }
   ],
   "source": [
    "import numpy as np\n",
    "import pandas as pd\n",
    "import matplotlib.pyplot as plt\n",
    "from sklearn.cluster import KMeans\n",
    "from sklearn.preprocessing import MinMaxScaler,StandardScaler\n",
    "import time\n",
    "\n",
    "def load_data(file_path: str):\n",
    "    df = pd.read_csv(file_path, header=None)\n",
    "    df.columns = [\n",
    "        'sepal_length',\n",
    "        'sepal_width',\n",
    "        'petal_length',\n",
    "        'petal_width',\n",
    "        'class'\n",
    "    ]\n",
    "    return df\n",
    "\n",
    "\n",
    "df = load_data('/content/drive/MyDrive/Colab Notebooks/31_DM/30_homeWork3/iris.data')\n",
    "# %%\n",
    "x: pd.DataFrame = df.iloc()[:, :-1]\n",
    "scaler = StandardScaler()\n",
    "x_nol = scaler.fit_transform(x)\n",
    "x_nol=pd.DataFrame(x_nol,columns=x.columns)\n",
    "x_nol"
   ]
  },
  {
   "cell_type": "markdown",
   "metadata": {
    "id": "QmUay4sc5i21"
   },
   "source": [
    "# KMeans fit\n"
   ]
  },
  {
   "cell_type": "code",
   "execution_count": 2,
   "metadata": {
    "colab": {
     "base_uri": "https://localhost:8080/"
    },
    "executionInfo": {
     "elapsed": 16,
     "status": "ok",
     "timestamp": 1638649688537,
     "user": {
      "displayName": "何松諭",
      "photoUrl": "https://lh3.googleusercontent.com/a/default-user=s64",
      "userId": "12106821870852340669"
     },
     "user_tz": -480
    },
    "id": "YJbShzGg5LTx",
    "outputId": "fa825b44-98e7-450c-b626-f0392f1a7bef"
   },
   "outputs": [
    {
     "name": "stdout",
     "output_type": "stream",
     "text": [
      "using time is 56.484699 ms \n"
     ]
    }
   ],
   "source": [
    "k_stat = time.time()\n",
    "k_mean = KMeans(n_clusters=3)\n",
    "k_mean.fit(x_nol)\n",
    "k_mean_lable = k_mean.predict(x_nol)\n",
    "k_end = time.time() - k_stat\n",
    "print(f'using time is {k_end*1000:.6f} ms ')"
   ]
  },
  {
   "cell_type": "code",
   "execution_count": 3,
   "metadata": {
    "colab": {
     "base_uri": "https://localhost:8080/",
     "height": 174
    },
    "executionInfo": {
     "elapsed": 14,
     "status": "ok",
     "timestamp": 1638649688537,
     "user": {
      "displayName": "何松諭",
      "photoUrl": "https://lh3.googleusercontent.com/a/default-user=s64",
      "userId": "12106821870852340669"
     },
     "user_tz": -480
    },
    "id": "wMJ5BK9D5RAW",
    "outputId": "456a6346-9d85-451f-87f7-716ecc678633"
   },
   "outputs": [
    {
     "data": {
      "text/html": [
       "<div>\n",
       "<style scoped>\n",
       "    .dataframe tbody tr th:only-of-type {\n",
       "        vertical-align: middle;\n",
       "    }\n",
       "\n",
       "    .dataframe tbody tr th {\n",
       "        vertical-align: top;\n",
       "    }\n",
       "\n",
       "    .dataframe thead th {\n",
       "        text-align: right;\n",
       "    }\n",
       "</style>\n",
       "<table border=\"1\" class=\"dataframe\">\n",
       "  <thead>\n",
       "    <tr style=\"text-align: right;\">\n",
       "      <th></th>\n",
       "      <th>Iris-versicolor</th>\n",
       "      <th>Iris-virginica</th>\n",
       "      <th>Iris-setosa</th>\n",
       "    </tr>\n",
       "    <tr>\n",
       "      <th>k_mean_lable</th>\n",
       "      <th></th>\n",
       "      <th></th>\n",
       "      <th></th>\n",
       "    </tr>\n",
       "  </thead>\n",
       "  <tbody>\n",
       "    <tr>\n",
       "      <th>0</th>\n",
       "      <td>50.0</td>\n",
       "      <td>0.0</td>\n",
       "      <td>0.0</td>\n",
       "    </tr>\n",
       "    <tr>\n",
       "      <th>1</th>\n",
       "      <td>0.0</td>\n",
       "      <td>39.0</td>\n",
       "      <td>14.0</td>\n",
       "    </tr>\n",
       "    <tr>\n",
       "      <th>2</th>\n",
       "      <td>0.0</td>\n",
       "      <td>11.0</td>\n",
       "      <td>36.0</td>\n",
       "    </tr>\n",
       "  </tbody>\n",
       "</table>\n",
       "</div>"
      ],
      "text/plain": [
       "              Iris-versicolor  Iris-virginica  Iris-setosa\n",
       "k_mean_lable                                              \n",
       "0                        50.0             0.0          0.0\n",
       "1                         0.0            39.0         14.0\n",
       "2                         0.0            11.0         36.0"
      ]
     },
     "execution_count": 3,
     "metadata": {},
     "output_type": "execute_result"
    }
   ],
   "source": [
    "df['k_mean_lable'] = k_mean_lable\n",
    "\n",
    "df_k_mean = df.pivot_table(index=['k_mean_lable'],\n",
    "                     columns=['class'],\n",
    "                     values=['sepal_length'],\n",
    "                     aggfunc=\"count\")\n",
    "\n",
    "df_k_mean.columns = df['class'].value_counts().index\n",
    "df_k_mean = df_k_mean.fillna(value=0)\n",
    "df_k_mean"
   ]
  },
  {
   "cell_type": "markdown",
   "metadata": {
    "id": "6q2rUcZP5wqS"
   },
   "source": [
    "# purity"
   ]
  },
  {
   "cell_type": "code",
   "execution_count": 4,
   "metadata": {
    "colab": {
     "base_uri": "https://localhost:8080/",
     "height": 193
    },
    "executionInfo": {
     "elapsed": 14,
     "status": "ok",
     "timestamp": 1638649688538,
     "user": {
      "displayName": "何松諭",
      "photoUrl": "https://lh3.googleusercontent.com/a/default-user=s64",
      "userId": "12106821870852340669"
     },
     "user_tz": -480
    },
    "id": "LcjYNc8o5Wxx",
    "outputId": "0954a389-32f0-40da-9eaa-6b59ef77f4e3"
   },
   "outputs": [
    {
     "name": "stdout",
     "output_type": "stream",
     "text": [
      "total purity for k mean is 0.833333\n"
     ]
    },
    {
     "data": {
      "text/html": [
       "<div>\n",
       "<style scoped>\n",
       "    .dataframe tbody tr th:only-of-type {\n",
       "        vertical-align: middle;\n",
       "    }\n",
       "\n",
       "    .dataframe tbody tr th {\n",
       "        vertical-align: top;\n",
       "    }\n",
       "\n",
       "    .dataframe thead th {\n",
       "        text-align: right;\n",
       "    }\n",
       "</style>\n",
       "<table border=\"1\" class=\"dataframe\">\n",
       "  <thead>\n",
       "    <tr style=\"text-align: right;\">\n",
       "      <th></th>\n",
       "      <th>Iris-versicolor</th>\n",
       "      <th>Iris-virginica</th>\n",
       "      <th>Iris-setosa</th>\n",
       "      <th>purity</th>\n",
       "      <th>purity_weight</th>\n",
       "    </tr>\n",
       "    <tr>\n",
       "      <th>k_mean_lable</th>\n",
       "      <th></th>\n",
       "      <th></th>\n",
       "      <th></th>\n",
       "      <th></th>\n",
       "      <th></th>\n",
       "    </tr>\n",
       "  </thead>\n",
       "  <tbody>\n",
       "    <tr>\n",
       "      <th>0</th>\n",
       "      <td>50.0</td>\n",
       "      <td>0.0</td>\n",
       "      <td>0.0</td>\n",
       "      <td>1.000000</td>\n",
       "      <td>0.333333</td>\n",
       "    </tr>\n",
       "    <tr>\n",
       "      <th>1</th>\n",
       "      <td>0.0</td>\n",
       "      <td>39.0</td>\n",
       "      <td>14.0</td>\n",
       "      <td>0.735849</td>\n",
       "      <td>0.260000</td>\n",
       "    </tr>\n",
       "    <tr>\n",
       "      <th>2</th>\n",
       "      <td>0.0</td>\n",
       "      <td>11.0</td>\n",
       "      <td>36.0</td>\n",
       "      <td>0.765957</td>\n",
       "      <td>0.240000</td>\n",
       "    </tr>\n",
       "  </tbody>\n",
       "</table>\n",
       "</div>"
      ],
      "text/plain": [
       "              Iris-versicolor  Iris-virginica  ...    purity  purity_weight\n",
       "k_mean_lable                                   ...                         \n",
       "0                        50.0             0.0  ...  1.000000       0.333333\n",
       "1                         0.0            39.0  ...  0.735849       0.260000\n",
       "2                         0.0            11.0  ...  0.765957       0.240000\n",
       "\n",
       "[3 rows x 5 columns]"
      ]
     },
     "execution_count": 4,
     "metadata": {},
     "output_type": "execute_result"
    }
   ],
   "source": [
    "def get_purity(df: pd.DataFrame):\n",
    "    temp = df / df.sum()\n",
    "    purity = temp.max()\n",
    "    return purity\n",
    "\n",
    "\n",
    "df_k_mean['purity'] = df_k_mean.apply(get_purity, axis=1)\n",
    "df_k_mean['purity_weight'] = (df_k_mean['purity'] * (df_k_mean.iloc()[:, :-1].sum(axis=1) / df_k_mean.iloc()[:, :-1].sum(axis=1).sum()))\n",
    "k_mean_total_purity = df_k_mean['purity_weight'].sum()\n",
    "print(f'total purity for k mean is {k_mean_total_purity:.6f}')\n",
    "df_k_mean"
   ]
  }
 ],
 "metadata": {
  "colab": {
   "authorship_tag": "ABX9TyMB32tibjooppk47zJQ0fvu",
   "collapsed_sections": [],
   "mount_file_id": "1rwMezAIU8IkRUZlXr0uqnOJ9TFZBmiKM",
   "name": "iris_KMeans.ipynb",
   "provenance": []
  },
  "kernelspec": {
   "display_name": "Python 3",
   "language": "python",
   "name": "python3"
  },
  "language_info": {
   "codemirror_mode": {
    "name": "ipython",
    "version": 3
   },
   "file_extension": ".py",
   "mimetype": "text/x-python",
   "name": "python",
   "nbconvert_exporter": "python",
   "pygments_lexer": "ipython3",
   "version": "3.7.7"
  }
 },
 "nbformat": 4,
 "nbformat_minor": 1
}
