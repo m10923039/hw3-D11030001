{
 "cells": [
  {
   "cell_type": "code",
   "execution_count": 1,
   "metadata": {
    "colab": {
     "base_uri": "https://localhost:8080/"
    },
    "id": "QFtQyVCf45Gj",
    "outputId": "3173e7bd-926b-4110-ab8e-523f2e2f4b9f"
   },
   "outputs": [
    {
     "data": {
      "text/plain": [
       "array([[0.03405267, 0.05857388, 0.04426214, ..., 0.83304879, 0.75099637,\n",
       "        0.98061988],\n",
       "       [0.03550018, 0.07755673, 0.03047881, ..., 0.96731548, 0.88498696,\n",
       "        0.97497943],\n",
       "       [0.03825855, 0.06803484, 0.05263303, ..., 0.80094229, 0.7361995 ,\n",
       "        0.98719587],\n",
       "       ...,\n",
       "       [0.09273856, 0.16060492, 0.17638393, ..., 0.42701895, 0.4722397 ,\n",
       "        0.9430251 ],\n",
       "       [0.09277272, 0.16365701, 0.17970258, ..., 0.41532999, 0.45691893,\n",
       "        0.91334231],\n",
       "       [0.09282396, 0.16944765, 0.20088207, ..., 0.34689166, 0.36476185,\n",
       "        0.9701623 ]])"
      ]
     },
     "execution_count": 1,
     "metadata": {},
     "output_type": "execute_result"
    }
   ],
   "source": [
    "import numpy as np\n",
    "import pandas as pd\n",
    "import matplotlib.pyplot as plt\n",
    "from sklearn.cluster import DBSCAN\n",
    "import time\n",
    "from sklearn.preprocessing import MinMaxScaler\n",
    "\n",
    "df = pd.read_excel('/content/drive/MyDrive/Colab Notebooks/31_DM/30_homeWork3/Dry_Bean_Dataset.xlsx')\n",
    "\n",
    "x: pd.DataFrame = df.iloc()[:, :-1]\n",
    "scaler = MinMaxScaler()\n",
    "x_nol = scaler.fit_transform(x)\n",
    "x_nol"
   ]
  },
  {
   "cell_type": "code",
   "execution_count": 2,
   "metadata": {
    "colab": {
     "base_uri": "https://localhost:8080/",
     "height": 443
    },
    "id": "cUj2X9YAf-_h",
    "outputId": "6d2e31a3-6837-4336-d183-69341ddc4c66"
   },
   "outputs": [
    {
     "data": {
      "text/html": [
       "<div>\n",
       "<style scoped>\n",
       "    .dataframe tbody tr th:only-of-type {\n",
       "        vertical-align: middle;\n",
       "    }\n",
       "\n",
       "    .dataframe tbody tr th {\n",
       "        vertical-align: top;\n",
       "    }\n",
       "\n",
       "    .dataframe thead th {\n",
       "        text-align: right;\n",
       "    }\n",
       "</style>\n",
       "<table border=\"1\" class=\"dataframe\">\n",
       "  <thead>\n",
       "    <tr style=\"text-align: right;\">\n",
       "      <th></th>\n",
       "      <th>Area</th>\n",
       "      <th>Perimeter</th>\n",
       "      <th>MajorAxisLength</th>\n",
       "      <th>MinorAxisLength</th>\n",
       "      <th>AspectRation</th>\n",
       "      <th>Eccentricity</th>\n",
       "      <th>ConvexArea</th>\n",
       "      <th>EquivDiameter</th>\n",
       "      <th>Extent</th>\n",
       "      <th>Solidity</th>\n",
       "      <th>roundness</th>\n",
       "      <th>Compactness</th>\n",
       "      <th>ShapeFactor1</th>\n",
       "      <th>ShapeFactor2</th>\n",
       "      <th>ShapeFactor3</th>\n",
       "      <th>ShapeFactor4</th>\n",
       "    </tr>\n",
       "  </thead>\n",
       "  <tbody>\n",
       "    <tr>\n",
       "      <th>0</th>\n",
       "      <td>28395</td>\n",
       "      <td>610.291</td>\n",
       "      <td>208.178117</td>\n",
       "      <td>173.888747</td>\n",
       "      <td>1.197191</td>\n",
       "      <td>0.549812</td>\n",
       "      <td>28715</td>\n",
       "      <td>190.141097</td>\n",
       "      <td>0.763923</td>\n",
       "      <td>0.988856</td>\n",
       "      <td>0.958027</td>\n",
       "      <td>0.913358</td>\n",
       "      <td>0.007332</td>\n",
       "      <td>0.003147</td>\n",
       "      <td>0.834222</td>\n",
       "      <td>0.998724</td>\n",
       "    </tr>\n",
       "    <tr>\n",
       "      <th>1</th>\n",
       "      <td>28734</td>\n",
       "      <td>638.018</td>\n",
       "      <td>200.524796</td>\n",
       "      <td>182.734419</td>\n",
       "      <td>1.097356</td>\n",
       "      <td>0.411785</td>\n",
       "      <td>29172</td>\n",
       "      <td>191.272750</td>\n",
       "      <td>0.783968</td>\n",
       "      <td>0.984986</td>\n",
       "      <td>0.887034</td>\n",
       "      <td>0.953861</td>\n",
       "      <td>0.006979</td>\n",
       "      <td>0.003564</td>\n",
       "      <td>0.909851</td>\n",
       "      <td>0.998430</td>\n",
       "    </tr>\n",
       "    <tr>\n",
       "      <th>2</th>\n",
       "      <td>29380</td>\n",
       "      <td>624.110</td>\n",
       "      <td>212.826130</td>\n",
       "      <td>175.931143</td>\n",
       "      <td>1.209713</td>\n",
       "      <td>0.562727</td>\n",
       "      <td>29690</td>\n",
       "      <td>193.410904</td>\n",
       "      <td>0.778113</td>\n",
       "      <td>0.989559</td>\n",
       "      <td>0.947849</td>\n",
       "      <td>0.908774</td>\n",
       "      <td>0.007244</td>\n",
       "      <td>0.003048</td>\n",
       "      <td>0.825871</td>\n",
       "      <td>0.999066</td>\n",
       "    </tr>\n",
       "    <tr>\n",
       "      <th>3</th>\n",
       "      <td>30008</td>\n",
       "      <td>645.884</td>\n",
       "      <td>210.557999</td>\n",
       "      <td>182.516516</td>\n",
       "      <td>1.153638</td>\n",
       "      <td>0.498616</td>\n",
       "      <td>30724</td>\n",
       "      <td>195.467062</td>\n",
       "      <td>0.782681</td>\n",
       "      <td>0.976696</td>\n",
       "      <td>0.903936</td>\n",
       "      <td>0.928329</td>\n",
       "      <td>0.007017</td>\n",
       "      <td>0.003215</td>\n",
       "      <td>0.861794</td>\n",
       "      <td>0.994199</td>\n",
       "    </tr>\n",
       "    <tr>\n",
       "      <th>4</th>\n",
       "      <td>30140</td>\n",
       "      <td>620.134</td>\n",
       "      <td>201.847882</td>\n",
       "      <td>190.279279</td>\n",
       "      <td>1.060798</td>\n",
       "      <td>0.333680</td>\n",
       "      <td>30417</td>\n",
       "      <td>195.896503</td>\n",
       "      <td>0.773098</td>\n",
       "      <td>0.990893</td>\n",
       "      <td>0.984877</td>\n",
       "      <td>0.970516</td>\n",
       "      <td>0.006697</td>\n",
       "      <td>0.003665</td>\n",
       "      <td>0.941900</td>\n",
       "      <td>0.999166</td>\n",
       "    </tr>\n",
       "    <tr>\n",
       "      <th>...</th>\n",
       "      <td>...</td>\n",
       "      <td>...</td>\n",
       "      <td>...</td>\n",
       "      <td>...</td>\n",
       "      <td>...</td>\n",
       "      <td>...</td>\n",
       "      <td>...</td>\n",
       "      <td>...</td>\n",
       "      <td>...</td>\n",
       "      <td>...</td>\n",
       "      <td>...</td>\n",
       "      <td>...</td>\n",
       "      <td>...</td>\n",
       "      <td>...</td>\n",
       "      <td>...</td>\n",
       "      <td>...</td>\n",
       "    </tr>\n",
       "    <tr>\n",
       "      <th>13606</th>\n",
       "      <td>42097</td>\n",
       "      <td>759.696</td>\n",
       "      <td>288.721612</td>\n",
       "      <td>185.944705</td>\n",
       "      <td>1.552728</td>\n",
       "      <td>0.765002</td>\n",
       "      <td>42508</td>\n",
       "      <td>231.515799</td>\n",
       "      <td>0.714574</td>\n",
       "      <td>0.990331</td>\n",
       "      <td>0.916603</td>\n",
       "      <td>0.801865</td>\n",
       "      <td>0.006858</td>\n",
       "      <td>0.001749</td>\n",
       "      <td>0.642988</td>\n",
       "      <td>0.998385</td>\n",
       "    </tr>\n",
       "    <tr>\n",
       "      <th>13607</th>\n",
       "      <td>42101</td>\n",
       "      <td>757.499</td>\n",
       "      <td>281.576392</td>\n",
       "      <td>190.713136</td>\n",
       "      <td>1.476439</td>\n",
       "      <td>0.735702</td>\n",
       "      <td>42494</td>\n",
       "      <td>231.526798</td>\n",
       "      <td>0.799943</td>\n",
       "      <td>0.990752</td>\n",
       "      <td>0.922015</td>\n",
       "      <td>0.822252</td>\n",
       "      <td>0.006688</td>\n",
       "      <td>0.001886</td>\n",
       "      <td>0.676099</td>\n",
       "      <td>0.998219</td>\n",
       "    </tr>\n",
       "    <tr>\n",
       "      <th>13608</th>\n",
       "      <td>42139</td>\n",
       "      <td>759.321</td>\n",
       "      <td>281.539928</td>\n",
       "      <td>191.187979</td>\n",
       "      <td>1.472582</td>\n",
       "      <td>0.734065</td>\n",
       "      <td>42569</td>\n",
       "      <td>231.631261</td>\n",
       "      <td>0.729932</td>\n",
       "      <td>0.989899</td>\n",
       "      <td>0.918424</td>\n",
       "      <td>0.822730</td>\n",
       "      <td>0.006681</td>\n",
       "      <td>0.001888</td>\n",
       "      <td>0.676884</td>\n",
       "      <td>0.996767</td>\n",
       "    </tr>\n",
       "    <tr>\n",
       "      <th>13609</th>\n",
       "      <td>42147</td>\n",
       "      <td>763.779</td>\n",
       "      <td>283.382636</td>\n",
       "      <td>190.275731</td>\n",
       "      <td>1.489326</td>\n",
       "      <td>0.741055</td>\n",
       "      <td>42667</td>\n",
       "      <td>231.653248</td>\n",
       "      <td>0.705389</td>\n",
       "      <td>0.987813</td>\n",
       "      <td>0.907906</td>\n",
       "      <td>0.817457</td>\n",
       "      <td>0.006724</td>\n",
       "      <td>0.001852</td>\n",
       "      <td>0.668237</td>\n",
       "      <td>0.995222</td>\n",
       "    </tr>\n",
       "    <tr>\n",
       "      <th>13610</th>\n",
       "      <td>42159</td>\n",
       "      <td>772.237</td>\n",
       "      <td>295.142741</td>\n",
       "      <td>182.204716</td>\n",
       "      <td>1.619841</td>\n",
       "      <td>0.786693</td>\n",
       "      <td>42600</td>\n",
       "      <td>231.686223</td>\n",
       "      <td>0.788962</td>\n",
       "      <td>0.989648</td>\n",
       "      <td>0.888380</td>\n",
       "      <td>0.784997</td>\n",
       "      <td>0.007001</td>\n",
       "      <td>0.001640</td>\n",
       "      <td>0.616221</td>\n",
       "      <td>0.998180</td>\n",
       "    </tr>\n",
       "  </tbody>\n",
       "</table>\n",
       "<p>13611 rows × 16 columns</p>\n",
       "</div>"
      ],
      "text/plain": [
       "        Area  Perimeter  ...  ShapeFactor3  ShapeFactor4\n",
       "0      28395    610.291  ...      0.834222      0.998724\n",
       "1      28734    638.018  ...      0.909851      0.998430\n",
       "2      29380    624.110  ...      0.825871      0.999066\n",
       "3      30008    645.884  ...      0.861794      0.994199\n",
       "4      30140    620.134  ...      0.941900      0.999166\n",
       "...      ...        ...  ...           ...           ...\n",
       "13606  42097    759.696  ...      0.642988      0.998385\n",
       "13607  42101    757.499  ...      0.676099      0.998219\n",
       "13608  42139    759.321  ...      0.676884      0.996767\n",
       "13609  42147    763.779  ...      0.668237      0.995222\n",
       "13610  42159    772.237  ...      0.616221      0.998180\n",
       "\n",
       "[13611 rows x 16 columns]"
      ]
     },
     "execution_count": 2,
     "metadata": {},
     "output_type": "execute_result"
    }
   ],
   "source": [
    "x"
   ]
  },
  {
   "cell_type": "code",
   "execution_count": 3,
   "metadata": {
    "colab": {
     "base_uri": "https://localhost:8080/"
    },
    "id": "XITk53EMWmeh",
    "outputId": "19f369b4-042c-4f8c-afa9-70b6ff01e063"
   },
   "outputs": [
    {
     "data": {
      "text/plain": [
       "NearestNeighbors()"
      ]
     },
     "execution_count": 3,
     "metadata": {},
     "output_type": "execute_result"
    }
   ],
   "source": [
    "from sklearn.neighbors import NearestNeighbors\n",
    "neigh = NearestNeighbors()\n",
    "neigh.fit(x_nol)"
   ]
  },
  {
   "cell_type": "code",
   "execution_count": 4,
   "metadata": {
    "id": "0OaZxEqeWs6e"
   },
   "outputs": [],
   "source": [
    "temp=pd.DataFrame()\n",
    "for i in range(5,50,5):\n",
    "  X_dist=neigh.kneighbors(x_nol,i)\n",
    "  temp[i]=sorted(X_dist[0][:,-1])\n"
   ]
  },
  {
   "cell_type": "code",
   "execution_count": 5,
   "metadata": {
    "colab": {
     "base_uri": "https://localhost:8080/"
    },
    "id": "r5v1vAUGWx2B",
    "outputId": "5e49c10b-b963-49b3-ffa5-0a16e6410780"
   },
   "outputs": [
    {
     "name": "stdout",
     "output_type": "stream",
     "text": [
      "5     23.570586\n",
      "10    26.386371\n",
      "15    24.780038\n",
      "20    23.980193\n",
      "25    23.149125\n",
      "30    21.983624\n",
      "35    21.530522\n",
      "40    21.006023\n",
      "45    19.896563\n",
      "dtype: float64\n",
      "5     13609\n",
      "10    13609\n",
      "15    13609\n",
      "20    13610\n",
      "25    13610\n",
      "30    13610\n",
      "35    13609\n",
      "40    13609\n",
      "45    13610\n",
      "dtype: int64\n"
     ]
    }
   ],
   "source": [
    "temp1:pd.DataFrame=temp.diff(1).dropna()/temp.iloc()[1:,:]*100\n",
    "print(temp1.max(axis=0))\n",
    "print(temp1.idxmax(axis=0))"
   ]
  },
  {
   "cell_type": "code",
   "execution_count": 7,
   "metadata": {
    "colab": {
     "base_uri": "https://localhost:8080/",
     "height": 331
    },
    "id": "2bmdXnYnWzF5",
    "outputId": "4d7127a9-be16-4166-b9b4-7c46232ddcd2"
   },
   "outputs": [
    {
     "data": {
      "text/html": [
       "<div>\n",
       "<style scoped>\n",
       "    .dataframe tbody tr th:only-of-type {\n",
       "        vertical-align: middle;\n",
       "    }\n",
       "\n",
       "    .dataframe tbody tr th {\n",
       "        vertical-align: top;\n",
       "    }\n",
       "\n",
       "    .dataframe thead th {\n",
       "        text-align: right;\n",
       "    }\n",
       "</style>\n",
       "<table border=\"1\" class=\"dataframe\">\n",
       "  <thead>\n",
       "    <tr style=\"text-align: right;\">\n",
       "      <th></th>\n",
       "      <th>5</th>\n",
       "      <th>10</th>\n",
       "      <th>15</th>\n",
       "      <th>20</th>\n",
       "      <th>25</th>\n",
       "      <th>30</th>\n",
       "      <th>35</th>\n",
       "      <th>40</th>\n",
       "      <th>45</th>\n",
       "    </tr>\n",
       "  </thead>\n",
       "  <tbody>\n",
       "    <tr>\n",
       "      <th>13608</th>\n",
       "      <td>0.445247</td>\n",
       "      <td>0.497359</td>\n",
       "      <td>0.540890</td>\n",
       "      <td>0.565322</td>\n",
       "      <td>0.597248</td>\n",
       "      <td>0.616252</td>\n",
       "      <td>0.631870</td>\n",
       "      <td>0.654492</td>\n",
       "      <td>0.672615</td>\n",
       "    </tr>\n",
       "    <tr>\n",
       "      <th>13608</th>\n",
       "      <td>0.445247</td>\n",
       "      <td>0.497359</td>\n",
       "      <td>0.540890</td>\n",
       "      <td>0.565322</td>\n",
       "      <td>0.597248</td>\n",
       "      <td>0.616252</td>\n",
       "      <td>0.631870</td>\n",
       "      <td>0.654492</td>\n",
       "      <td>0.672615</td>\n",
       "    </tr>\n",
       "    <tr>\n",
       "      <th>13608</th>\n",
       "      <td>0.445247</td>\n",
       "      <td>0.497359</td>\n",
       "      <td>0.540890</td>\n",
       "      <td>0.565322</td>\n",
       "      <td>0.597248</td>\n",
       "      <td>0.616252</td>\n",
       "      <td>0.631870</td>\n",
       "      <td>0.654492</td>\n",
       "      <td>0.672615</td>\n",
       "    </tr>\n",
       "    <tr>\n",
       "      <th>13609</th>\n",
       "      <td>0.582559</td>\n",
       "      <td>0.675634</td>\n",
       "      <td>0.719078</td>\n",
       "      <td>0.729043</td>\n",
       "      <td>0.756553</td>\n",
       "      <td>0.778552</td>\n",
       "      <td>0.805243</td>\n",
       "      <td>0.828534</td>\n",
       "      <td>0.836684</td>\n",
       "    </tr>\n",
       "    <tr>\n",
       "      <th>13609</th>\n",
       "      <td>0.582559</td>\n",
       "      <td>0.675634</td>\n",
       "      <td>0.719078</td>\n",
       "      <td>0.729043</td>\n",
       "      <td>0.756553</td>\n",
       "      <td>0.778552</td>\n",
       "      <td>0.805243</td>\n",
       "      <td>0.828534</td>\n",
       "      <td>0.836684</td>\n",
       "    </tr>\n",
       "    <tr>\n",
       "      <th>13609</th>\n",
       "      <td>0.582559</td>\n",
       "      <td>0.675634</td>\n",
       "      <td>0.719078</td>\n",
       "      <td>0.729043</td>\n",
       "      <td>0.756553</td>\n",
       "      <td>0.778552</td>\n",
       "      <td>0.805243</td>\n",
       "      <td>0.828534</td>\n",
       "      <td>0.836684</td>\n",
       "    </tr>\n",
       "    <tr>\n",
       "      <th>13608</th>\n",
       "      <td>0.445247</td>\n",
       "      <td>0.497359</td>\n",
       "      <td>0.540890</td>\n",
       "      <td>0.565322</td>\n",
       "      <td>0.597248</td>\n",
       "      <td>0.616252</td>\n",
       "      <td>0.631870</td>\n",
       "      <td>0.654492</td>\n",
       "      <td>0.672615</td>\n",
       "    </tr>\n",
       "    <tr>\n",
       "      <th>13608</th>\n",
       "      <td>0.445247</td>\n",
       "      <td>0.497359</td>\n",
       "      <td>0.540890</td>\n",
       "      <td>0.565322</td>\n",
       "      <td>0.597248</td>\n",
       "      <td>0.616252</td>\n",
       "      <td>0.631870</td>\n",
       "      <td>0.654492</td>\n",
       "      <td>0.672615</td>\n",
       "    </tr>\n",
       "    <tr>\n",
       "      <th>13609</th>\n",
       "      <td>0.582559</td>\n",
       "      <td>0.675634</td>\n",
       "      <td>0.719078</td>\n",
       "      <td>0.729043</td>\n",
       "      <td>0.756553</td>\n",
       "      <td>0.778552</td>\n",
       "      <td>0.805243</td>\n",
       "      <td>0.828534</td>\n",
       "      <td>0.836684</td>\n",
       "    </tr>\n",
       "  </tbody>\n",
       "</table>\n",
       "</div>"
      ],
      "text/plain": [
       "             5         10        15  ...        35        40        45\n",
       "13608  0.445247  0.497359  0.540890  ...  0.631870  0.654492  0.672615\n",
       "13608  0.445247  0.497359  0.540890  ...  0.631870  0.654492  0.672615\n",
       "13608  0.445247  0.497359  0.540890  ...  0.631870  0.654492  0.672615\n",
       "13609  0.582559  0.675634  0.719078  ...  0.805243  0.828534  0.836684\n",
       "13609  0.582559  0.675634  0.719078  ...  0.805243  0.828534  0.836684\n",
       "13609  0.582559  0.675634  0.719078  ...  0.805243  0.828534  0.836684\n",
       "13608  0.445247  0.497359  0.540890  ...  0.631870  0.654492  0.672615\n",
       "13608  0.445247  0.497359  0.540890  ...  0.631870  0.654492  0.672615\n",
       "13609  0.582559  0.675634  0.719078  ...  0.805243  0.828534  0.836684\n",
       "\n",
       "[9 rows x 9 columns]"
      ]
     },
     "execution_count": 7,
     "metadata": {},
     "output_type": "execute_result"
    }
   ],
   "source": [
    "temp.iloc()[temp1.idxmax(axis=0)-1,]"
   ]
  },
  {
   "cell_type": "code",
   "execution_count": 33,
   "metadata": {
    "colab": {
     "base_uri": "https://localhost:8080/"
    },
    "id": "6vJXZ8IoXXId",
    "outputId": "d95dcfa4-a3a9-4727-bfea-966dfd45403b"
   },
   "outputs": [
    {
     "data": {
      "text/plain": [
       "5     0.144109\n",
       "10    0.168249\n",
       "15    0.183507\n",
       "20    0.195175\n",
       "25    0.204112\n",
       "30    0.212552\n",
       "35    0.219688\n",
       "40    0.226067\n",
       "45    0.232116\n",
       "Name: 13000, dtype: float64"
      ]
     },
     "execution_count": 33,
     "metadata": {},
     "output_type": "execute_result"
    }
   ],
   "source": [
    "temp.iloc()[13000,:]"
   ]
  },
  {
   "cell_type": "code",
   "execution_count": 20,
   "metadata": {
    "colab": {
     "base_uri": "https://localhost:8080/",
     "height": 982
    },
    "id": "yRBhRQK8WuIK",
    "outputId": "323a2256-2d03-42b2-d4be-880d3ecd160f"
   },
   "outputs": [
    {
     "data": {
      "text/plain": [
       "Text(0.5, 0, 'points sorted distance of k nearest neighbor')"
      ]
     },
     "execution_count": 20,
     "metadata": {},
     "output_type": "execute_result"
    },
    {
     "data": {
      "image/png": "[encoded data removed]",
      "text/plain": [
       "<Figure size 1152x1152 with 1 Axes>"
      ]
     },
     "metadata": {
      "needs_background": "light"
     },
     "output_type": "display_data"
    }
   ],
   "source": [
    "yticks=np.arange(0.1 , 1.1, 0.05)\n",
    "xticks=np.arange(0,13610,1000)\n",
    "temp=temp.round(decimals=6)\n",
    "temp.plot(figsize=(16,16),\n",
    "           yticks=yticks,xticks=xticks,rot=(60),ylim=(0,1.1),xlim=(-1,14610),\n",
    "       fontsize=12,grid=True,style ='.-')\n",
    "plt.legend(prop={\"size\":12})\n",
    "plt.ylabel('k nearest neighbor distance',fontsize=12)\n",
    "plt.xlabel('points sorted distance of k nearest neighbor',fontsize=12)"
   ]
  },
  {
   "cell_type": "markdown",
   "metadata": {
    "id": "QmUay4sc5i21"
   },
   "source": [
    "# DBSCAN  fit\n"
   ]
  },
  {
   "cell_type": "code",
   "execution_count": 34,
   "metadata": {
    "colab": {
     "base_uri": "https://localhost:8080/"
    },
    "id": "YJbShzGg5LTx",
    "outputId": "cedde7fd-8a9f-4554-c45d-fb56b73ecbec"
   },
   "outputs": [
    {
     "name": "stdout",
     "output_type": "stream",
     "text": [
      "using time is 2006.940126 ms \n"
     ]
    }
   ],
   "source": [
    "k_stat = time.time()\n",
    "\n",
    "db_scan = DBSCAN(min_samples=45,eps=0.232116)\n",
    "db_scan_lable = db_scan.fit_predict(x_nol)\n",
    "k_end = time.time() - k_stat\n",
    "print(f'using time is {k_end*1000:.6f} ms ')"
   ]
  },
  {
   "cell_type": "code",
   "execution_count": 35,
   "metadata": {
    "colab": {
     "base_uri": "https://localhost:8080/"
    },
    "id": "4YSOFKXVYxV_",
    "outputId": "b9dee24c-75a1-426f-844b-1ed3c4351cda"
   },
   "outputs": [
    {
     "data": {
      "text/plain": [
       "array([0, 0, 0, ..., 0, 0, 0])"
      ]
     },
     "execution_count": 35,
     "metadata": {},
     "output_type": "execute_result"
    }
   ],
   "source": [
    "db_scan_lable"
   ]
  },
  {
   "cell_type": "code",
   "execution_count": 36,
   "metadata": {
    "colab": {
     "base_uri": "https://localhost:8080/",
     "height": 174
    },
    "id": "wMJ5BK9D5RAW",
    "outputId": "94715c1d-c00c-4521-f585-bf6719437e8d"
   },
   "outputs": [
    {
     "data": {
      "text/html": [
       "<div>\n",
       "<style scoped>\n",
       "    .dataframe tbody tr th:only-of-type {\n",
       "        vertical-align: middle;\n",
       "    }\n",
       "\n",
       "    .dataframe tbody tr th {\n",
       "        vertical-align: top;\n",
       "    }\n",
       "\n",
       "    .dataframe thead th {\n",
       "        text-align: right;\n",
       "    }\n",
       "</style>\n",
       "<table border=\"1\" class=\"dataframe\">\n",
       "  <thead>\n",
       "    <tr style=\"text-align: right;\">\n",
       "      <th></th>\n",
       "      <th>DERMASON</th>\n",
       "      <th>SIRA</th>\n",
       "      <th>SEKER</th>\n",
       "      <th>HOROZ</th>\n",
       "      <th>CALI</th>\n",
       "      <th>BARBUNYA</th>\n",
       "      <th>BOMBAY</th>\n",
       "    </tr>\n",
       "    <tr>\n",
       "      <th>db_scan_lable</th>\n",
       "      <th></th>\n",
       "      <th></th>\n",
       "      <th></th>\n",
       "      <th></th>\n",
       "      <th></th>\n",
       "      <th></th>\n",
       "      <th></th>\n",
       "    </tr>\n",
       "  </thead>\n",
       "  <tbody>\n",
       "    <tr>\n",
       "      <th>-1</th>\n",
       "      <td>7.0</td>\n",
       "      <td>40.0</td>\n",
       "      <td>4.0</td>\n",
       "      <td>23.0</td>\n",
       "      <td>65.0</td>\n",
       "      <td>10.0</td>\n",
       "      <td>3.0</td>\n",
       "    </tr>\n",
       "    <tr>\n",
       "      <th>0</th>\n",
       "      <td>1315.0</td>\n",
       "      <td>0.0</td>\n",
       "      <td>1626.0</td>\n",
       "      <td>3523.0</td>\n",
       "      <td>1863.0</td>\n",
       "      <td>2017.0</td>\n",
       "      <td>2633.0</td>\n",
       "    </tr>\n",
       "    <tr>\n",
       "      <th>1</th>\n",
       "      <td>0.0</td>\n",
       "      <td>482.0</td>\n",
       "      <td>0.0</td>\n",
       "      <td>0.0</td>\n",
       "      <td>0.0</td>\n",
       "      <td>0.0</td>\n",
       "      <td>0.0</td>\n",
       "    </tr>\n",
       "  </tbody>\n",
       "</table>\n",
       "</div>"
      ],
      "text/plain": [
       "               DERMASON   SIRA   SEKER   HOROZ    CALI  BARBUNYA  BOMBAY\n",
       "db_scan_lable                                                           \n",
       "-1                  7.0   40.0     4.0    23.0    65.0      10.0     3.0\n",
       " 0               1315.0    0.0  1626.0  3523.0  1863.0    2017.0  2633.0\n",
       " 1                  0.0  482.0     0.0     0.0     0.0       0.0     0.0"
      ]
     },
     "execution_count": 36,
     "metadata": {},
     "output_type": "execute_result"
    }
   ],
   "source": [
    "df['db_scan_lable'] = db_scan_lable\n",
    "\n",
    "df_db_scan = df.pivot_table(index=['db_scan_lable'],\n",
    "                     columns=['Class'],\n",
    "                     values=['Area'],\n",
    "                     aggfunc=\"count\")\n",
    "\n",
    "df_db_scan.columns = df['Class'].value_counts().index\n",
    "df_db_scan = df_db_scan.fillna(value=0)\n",
    "df_db_scan"
   ]
  },
  {
   "cell_type": "markdown",
   "metadata": {
    "id": "6q2rUcZP5wqS"
   },
   "source": [
    "# purity"
   ]
  },
  {
   "cell_type": "code",
   "execution_count": 37,
   "metadata": {
    "colab": {
     "base_uri": "https://localhost:8080/",
     "height": 193
    },
    "id": "LcjYNc8o5Wxx",
    "outputId": "e6c20d81-3963-4ccf-c6a2-33e283a64455"
   },
   "outputs": [
    {
     "name": "stdout",
     "output_type": "stream",
     "text": [
      "total purity for DBSCAN is 0.294247\n"
     ]
    },
    {
     "data": {
      "text/html": [
       "<div>\n",
       "<style scoped>\n",
       "    .dataframe tbody tr th:only-of-type {\n",
       "        vertical-align: middle;\n",
       "    }\n",
       "\n",
       "    .dataframe tbody tr th {\n",
       "        vertical-align: top;\n",
       "    }\n",
       "\n",
       "    .dataframe thead th {\n",
       "        text-align: right;\n",
       "    }\n",
       "</style>\n",
       "<table border=\"1\" class=\"dataframe\">\n",
       "  <thead>\n",
       "    <tr style=\"text-align: right;\">\n",
       "      <th></th>\n",
       "      <th>DERMASON</th>\n",
       "      <th>SIRA</th>\n",
       "      <th>SEKER</th>\n",
       "      <th>HOROZ</th>\n",
       "      <th>CALI</th>\n",
       "      <th>BARBUNYA</th>\n",
       "      <th>BOMBAY</th>\n",
       "      <th>purity</th>\n",
       "      <th>purity_weight</th>\n",
       "    </tr>\n",
       "    <tr>\n",
       "      <th>db_scan_lable</th>\n",
       "      <th></th>\n",
       "      <th></th>\n",
       "      <th></th>\n",
       "      <th></th>\n",
       "      <th></th>\n",
       "      <th></th>\n",
       "      <th></th>\n",
       "      <th></th>\n",
       "      <th></th>\n",
       "    </tr>\n",
       "  </thead>\n",
       "  <tbody>\n",
       "    <tr>\n",
       "      <th>-1</th>\n",
       "      <td>7.0</td>\n",
       "      <td>40.0</td>\n",
       "      <td>4.0</td>\n",
       "      <td>23.0</td>\n",
       "      <td>65.0</td>\n",
       "      <td>10.0</td>\n",
       "      <td>3.0</td>\n",
       "      <td>NaN</td>\n",
       "      <td>NaN</td>\n",
       "    </tr>\n",
       "    <tr>\n",
       "      <th>0</th>\n",
       "      <td>1315.0</td>\n",
       "      <td>0.0</td>\n",
       "      <td>1626.0</td>\n",
       "      <td>3523.0</td>\n",
       "      <td>1863.0</td>\n",
       "      <td>2017.0</td>\n",
       "      <td>2633.0</td>\n",
       "      <td>0.27148</td>\n",
       "      <td>0.258835</td>\n",
       "    </tr>\n",
       "    <tr>\n",
       "      <th>1</th>\n",
       "      <td>0.0</td>\n",
       "      <td>482.0</td>\n",
       "      <td>0.0</td>\n",
       "      <td>0.0</td>\n",
       "      <td>0.0</td>\n",
       "      <td>0.0</td>\n",
       "      <td>0.0</td>\n",
       "      <td>1.00000</td>\n",
       "      <td>0.035413</td>\n",
       "    </tr>\n",
       "  </tbody>\n",
       "</table>\n",
       "</div>"
      ],
      "text/plain": [
       "               DERMASON   SIRA   SEKER  ...  BOMBAY   purity  purity_weight\n",
       "db_scan_lable                           ...                                \n",
       "-1                  7.0   40.0     4.0  ...     3.0      NaN            NaN\n",
       " 0               1315.0    0.0  1626.0  ...  2633.0  0.27148       0.258835\n",
       " 1                  0.0  482.0     0.0  ...     0.0  1.00000       0.035413\n",
       "\n",
       "[3 rows x 9 columns]"
      ]
     },
     "execution_count": 37,
     "metadata": {},
     "output_type": "execute_result"
    }
   ],
   "source": [
    "def get_purity(df: pd.DataFrame):\n",
    "    temp = df / df.sum()\n",
    "    purity = temp.max()\n",
    "    return purity\n",
    "\n",
    "\n",
    "df_db_scan['purity'] = df_db_scan.iloc()[1:,:].apply(get_purity, axis=1)\n",
    "df_db_scan['purity_weight'] = (df_db_scan['purity'] * (df_db_scan.iloc()[:, :-1].sum(axis=1) / df_db_scan.iloc()[:, :-1].sum(axis=1).sum()))\n",
    "db_scan_total_purity = df_db_scan['purity_weight'].sum()\n",
    "print(f'total purity for DBSCAN is {db_scan_total_purity:.6f}')\n",
    "df_db_scan"
   ]
  }
 ],
 "metadata": {
  "colab": {
   "collapsed_sections": [],
   "name": "Dry_Bean_DBSCAN.ipynb",
   "provenance": []
  },
  "kernelspec": {
   "display_name": "Python 3",
   "language": "python",
   "name": "python3"
  },
  "language_info": {
   "codemirror_mode": {
    "name": "ipython",
    "version": 3
   },
   "file_extension": ".py",
   "mimetype": "text/x-python",
   "name": "python",
   "nbconvert_exporter": "python",
   "pygments_lexer": "ipython3",
   "version": "3.7.7"
  }
 },
 "nbformat": 4,
 "nbformat_minor": 1
}
